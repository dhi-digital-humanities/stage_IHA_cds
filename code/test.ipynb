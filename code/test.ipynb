{
 "cells": [
  {
   "cell_type": "code",
   "execution_count": null,
   "metadata": {
    "collapsed": true,
    "pycharm": {
     "name": "#%%\n"
    }
   },
   "outputs": [],
   "source": []
  },
  {
   "cell_type": "code",
   "execution_count": 4,
   "outputs": [
    {
     "name": "stderr",
     "output_type": "stream",
     "text": [
      "WARNING:param.main: Calling the .opts method with options broken down by options group (i.e. separate plot, style and norm groups) is deprecated. Use the .options method converting to the simplified format instead or use hv.opts.apply_groups for backward compatibility.\n"
     ]
    },
    {
     "ename": "KeyError",
     "evalue": "'matplotlib'",
     "output_type": "error",
     "traceback": [
      "\u001B[0;31m---------------------------------------------------------------------------\u001B[0m",
      "\u001B[0;31mKeyError\u001B[0m                                  Traceback (most recent call last)",
      "Input \u001B[0;32mIn [4]\u001B[0m, in \u001B[0;36m<cell line: 34>\u001B[0;34m()\u001B[0m\n\u001B[1;32m     20\u001B[0m     style_opts \u001B[38;5;241m=\u001B[39m \u001B[38;5;28mdict\u001B[39m(node_size \u001B[38;5;241m=\u001B[39m \u001B[38;5;241m15\u001B[39m,\n\u001B[1;32m     21\u001B[0m                       cmap \u001B[38;5;241m=\u001B[39m \u001B[38;5;124m\"\u001B[39m\u001B[38;5;124mRdYlBu\u001B[39m\u001B[38;5;124m\"\u001B[39m,\n\u001B[1;32m     22\u001B[0m                       node_alpha \u001B[38;5;241m=\u001B[39m \u001B[38;5;241m0.95\u001B[39m,\n\u001B[1;32m     23\u001B[0m                       edge_cmap \u001B[38;5;241m=\u001B[39m \u001B[38;5;124m\"\u001B[39m\u001B[38;5;124mblues\u001B[39m\u001B[38;5;124m\"\u001B[39m,\n\u001B[1;32m     24\u001B[0m                       edge_line_width \u001B[38;5;241m=\u001B[39m \u001B[38;5;241m0.85\u001B[39m,\n\u001B[1;32m     25\u001B[0m                       edge_alpha \u001B[38;5;241m=\u001B[39m \u001B[38;5;241m1\u001B[39m)\n\u001B[1;32m     27\u001B[0m     \u001B[38;5;28;01mreturn\u001B[39;00m hv\u001B[38;5;241m.\u001B[39mGraph\u001B[38;5;241m.\u001B[39mfrom_networkx(my_graph,\n\u001B[1;32m     28\u001B[0m                                   positions\u001B[38;5;241m=\u001B[39mnx\u001B[38;5;241m.\u001B[39mspring_layout\n\u001B[1;32m     29\u001B[0m                                   )\u001B[38;5;241m.\u001B[39mopts(\n\u001B[1;32m     30\u001B[0m         style \u001B[38;5;241m=\u001B[39m style_opts,\n\u001B[1;32m     31\u001B[0m         plot \u001B[38;5;241m=\u001B[39m plot_opts\n\u001B[1;32m     32\u001B[0m     )\n\u001B[0;32m---> 34\u001B[0m hv\u001B[38;5;241m.\u001B[39mHoloMap({label: get_graph(label) \u001B[38;5;28;01mfor\u001B[39;00m label \u001B[38;5;129;01min\u001B[39;00m [\u001B[38;5;124m\"\u001B[39m\u001B[38;5;124mheight\u001B[39m\u001B[38;5;124m\"\u001B[39m,\u001B[38;5;124m\"\u001B[39m\u001B[38;5;124mdegree\u001B[39m\u001B[38;5;124m\"\u001B[39m,\u001B[38;5;124m\"\u001B[39m\u001B[38;5;124mpreferredfood\u001B[39m\u001B[38;5;124m\"\u001B[39m]}, kdims\u001B[38;5;241m=\u001B[39m[\u001B[38;5;124m\"\u001B[39m\u001B[38;5;124mlabel\u001B[39m\u001B[38;5;124m\"\u001B[39m])\n",
      "Input \u001B[0;32mIn [4]\u001B[0m, in \u001B[0;36m<dictcomp>\u001B[0;34m(.0)\u001B[0m\n\u001B[1;32m     20\u001B[0m     style_opts \u001B[38;5;241m=\u001B[39m \u001B[38;5;28mdict\u001B[39m(node_size \u001B[38;5;241m=\u001B[39m \u001B[38;5;241m15\u001B[39m,\n\u001B[1;32m     21\u001B[0m                       cmap \u001B[38;5;241m=\u001B[39m \u001B[38;5;124m\"\u001B[39m\u001B[38;5;124mRdYlBu\u001B[39m\u001B[38;5;124m\"\u001B[39m,\n\u001B[1;32m     22\u001B[0m                       node_alpha \u001B[38;5;241m=\u001B[39m \u001B[38;5;241m0.95\u001B[39m,\n\u001B[1;32m     23\u001B[0m                       edge_cmap \u001B[38;5;241m=\u001B[39m \u001B[38;5;124m\"\u001B[39m\u001B[38;5;124mblues\u001B[39m\u001B[38;5;124m\"\u001B[39m,\n\u001B[1;32m     24\u001B[0m                       edge_line_width \u001B[38;5;241m=\u001B[39m \u001B[38;5;241m0.85\u001B[39m,\n\u001B[1;32m     25\u001B[0m                       edge_alpha \u001B[38;5;241m=\u001B[39m \u001B[38;5;241m1\u001B[39m)\n\u001B[1;32m     27\u001B[0m     \u001B[38;5;28;01mreturn\u001B[39;00m hv\u001B[38;5;241m.\u001B[39mGraph\u001B[38;5;241m.\u001B[39mfrom_networkx(my_graph,\n\u001B[1;32m     28\u001B[0m                                   positions\u001B[38;5;241m=\u001B[39mnx\u001B[38;5;241m.\u001B[39mspring_layout\n\u001B[1;32m     29\u001B[0m                                   )\u001B[38;5;241m.\u001B[39mopts(\n\u001B[1;32m     30\u001B[0m         style \u001B[38;5;241m=\u001B[39m style_opts,\n\u001B[1;32m     31\u001B[0m         plot \u001B[38;5;241m=\u001B[39m plot_opts\n\u001B[1;32m     32\u001B[0m     )\n\u001B[0;32m---> 34\u001B[0m hv\u001B[38;5;241m.\u001B[39mHoloMap({label: \u001B[43mget_graph\u001B[49m\u001B[43m(\u001B[49m\u001B[43mlabel\u001B[49m\u001B[43m)\u001B[49m \u001B[38;5;28;01mfor\u001B[39;00m label \u001B[38;5;129;01min\u001B[39;00m [\u001B[38;5;124m\"\u001B[39m\u001B[38;5;124mheight\u001B[39m\u001B[38;5;124m\"\u001B[39m,\u001B[38;5;124m\"\u001B[39m\u001B[38;5;124mdegree\u001B[39m\u001B[38;5;124m\"\u001B[39m,\u001B[38;5;124m\"\u001B[39m\u001B[38;5;124mpreferredfood\u001B[39m\u001B[38;5;124m\"\u001B[39m]}, kdims\u001B[38;5;241m=\u001B[39m[\u001B[38;5;124m\"\u001B[39m\u001B[38;5;124mlabel\u001B[39m\u001B[38;5;124m\"\u001B[39m])\n",
      "Input \u001B[0;32mIn [4]\u001B[0m, in \u001B[0;36mget_graph\u001B[0;34m(label)\u001B[0m\n\u001B[1;32m     11\u001B[0m plot_opts \u001B[38;5;241m=\u001B[39m \u001B[38;5;28mdict\u001B[39m(color_index \u001B[38;5;241m=\u001B[39m label,\n\u001B[1;32m     12\u001B[0m                  edge_color_index \u001B[38;5;241m=\u001B[39m \u001B[38;5;124m\"\u001B[39m\u001B[38;5;124mweight\u001B[39m\u001B[38;5;124m\"\u001B[39m,\n\u001B[1;32m     13\u001B[0m                  width \u001B[38;5;241m=\u001B[39m \u001B[38;5;241m500\u001B[39m,\n\u001B[0;32m   (...)\u001B[0m\n\u001B[1;32m     17\u001B[0m                  show_frame \u001B[38;5;241m=\u001B[39m \u001B[38;5;28;01mFalse\u001B[39;00m,\n\u001B[1;32m     18\u001B[0m                  tools \u001B[38;5;241m=\u001B[39m [\u001B[38;5;124m'\u001B[39m\u001B[38;5;124mhover\u001B[39m\u001B[38;5;124m'\u001B[39m])\n\u001B[1;32m     20\u001B[0m style_opts \u001B[38;5;241m=\u001B[39m \u001B[38;5;28mdict\u001B[39m(node_size \u001B[38;5;241m=\u001B[39m \u001B[38;5;241m15\u001B[39m,\n\u001B[1;32m     21\u001B[0m                   cmap \u001B[38;5;241m=\u001B[39m \u001B[38;5;124m\"\u001B[39m\u001B[38;5;124mRdYlBu\u001B[39m\u001B[38;5;124m\"\u001B[39m,\n\u001B[1;32m     22\u001B[0m                   node_alpha \u001B[38;5;241m=\u001B[39m \u001B[38;5;241m0.95\u001B[39m,\n\u001B[1;32m     23\u001B[0m                   edge_cmap \u001B[38;5;241m=\u001B[39m \u001B[38;5;124m\"\u001B[39m\u001B[38;5;124mblues\u001B[39m\u001B[38;5;124m\"\u001B[39m,\n\u001B[1;32m     24\u001B[0m                   edge_line_width \u001B[38;5;241m=\u001B[39m \u001B[38;5;241m0.85\u001B[39m,\n\u001B[1;32m     25\u001B[0m                   edge_alpha \u001B[38;5;241m=\u001B[39m \u001B[38;5;241m1\u001B[39m)\n\u001B[0;32m---> 27\u001B[0m \u001B[38;5;28;01mreturn\u001B[39;00m \u001B[43mhv\u001B[49m\u001B[38;5;241;43m.\u001B[39;49m\u001B[43mGraph\u001B[49m\u001B[38;5;241;43m.\u001B[39;49m\u001B[43mfrom_networkx\u001B[49m\u001B[43m(\u001B[49m\u001B[43mmy_graph\u001B[49m\u001B[43m,\u001B[49m\n\u001B[1;32m     28\u001B[0m \u001B[43m                              \u001B[49m\u001B[43mpositions\u001B[49m\u001B[38;5;241;43m=\u001B[39;49m\u001B[43mnx\u001B[49m\u001B[38;5;241;43m.\u001B[39;49m\u001B[43mspring_layout\u001B[49m\n\u001B[1;32m     29\u001B[0m \u001B[43m                              \u001B[49m\u001B[43m)\u001B[49m\u001B[38;5;241;43m.\u001B[39;49m\u001B[43mopts\u001B[49m\u001B[43m(\u001B[49m\n\u001B[1;32m     30\u001B[0m \u001B[43m    \u001B[49m\u001B[43mstyle\u001B[49m\u001B[43m \u001B[49m\u001B[38;5;241;43m=\u001B[39;49m\u001B[43m \u001B[49m\u001B[43mstyle_opts\u001B[49m\u001B[43m,\u001B[49m\n\u001B[1;32m     31\u001B[0m \u001B[43m    \u001B[49m\u001B[43mplot\u001B[49m\u001B[43m \u001B[49m\u001B[38;5;241;43m=\u001B[39;49m\u001B[43m \u001B[49m\u001B[43mplot_opts\u001B[49m\n\u001B[1;32m     32\u001B[0m \u001B[43m\u001B[49m\u001B[43m)\u001B[49m\n",
      "File \u001B[0;32m/Library/Frameworks/Python.framework/Versions/3.10/lib/python3.10/site-packages/holoviews/core/accessors.py:45\u001B[0m, in \u001B[0;36mAccessorPipelineMeta.pipelined.<locals>.pipelined_call\u001B[0;34m(*args, **kwargs)\u001B[0m\n\u001B[1;32m     42\u001B[0m     inst\u001B[38;5;241m.\u001B[39m_obj\u001B[38;5;241m.\u001B[39m_in_method \u001B[38;5;241m=\u001B[39m \u001B[38;5;28;01mTrue\u001B[39;00m\n\u001B[1;32m     44\u001B[0m \u001B[38;5;28;01mtry\u001B[39;00m:\n\u001B[0;32m---> 45\u001B[0m     result \u001B[38;5;241m=\u001B[39m \u001B[38;5;21;43m__call__\u001B[39;49m\u001B[43m(\u001B[49m\u001B[38;5;241;43m*\u001B[39;49m\u001B[43margs\u001B[49m\u001B[43m,\u001B[49m\u001B[43m \u001B[49m\u001B[38;5;241;43m*\u001B[39;49m\u001B[38;5;241;43m*\u001B[39;49m\u001B[43mkwargs\u001B[49m\u001B[43m)\u001B[49m\n\u001B[1;32m     47\u001B[0m     \u001B[38;5;28;01mif\u001B[39;00m \u001B[38;5;129;01mnot\u001B[39;00m in_method:\n\u001B[1;32m     48\u001B[0m         init_op \u001B[38;5;241m=\u001B[39m factory\u001B[38;5;241m.\u001B[39minstance(\n\u001B[1;32m     49\u001B[0m             output_type\u001B[38;5;241m=\u001B[39m\u001B[38;5;28mtype\u001B[39m(inst),\n\u001B[1;32m     50\u001B[0m             kwargs\u001B[38;5;241m=\u001B[39m{\u001B[38;5;124m'\u001B[39m\u001B[38;5;124mmode\u001B[39m\u001B[38;5;124m'\u001B[39m: \u001B[38;5;28mgetattr\u001B[39m(inst, \u001B[38;5;124m'\u001B[39m\u001B[38;5;124mmode\u001B[39m\u001B[38;5;124m'\u001B[39m, \u001B[38;5;28;01mNone\u001B[39;00m)},\n\u001B[1;32m     51\u001B[0m         )\n",
      "File \u001B[0;32m/Library/Frameworks/Python.framework/Versions/3.10/lib/python3.10/site-packages/holoviews/core/accessors.py:571\u001B[0m, in \u001B[0;36mOpts.__call__\u001B[0;34m(self, *args, **kwargs)\u001B[0m\n\u001B[1;32m    565\u001B[0m         msg \u001B[38;5;241m=\u001B[39m (\u001B[38;5;124m\"\u001B[39m\u001B[38;5;124mCalling the .opts method with options broken down by options \u001B[39m\u001B[38;5;124m\"\u001B[39m\n\u001B[1;32m    566\u001B[0m                \u001B[38;5;124m\"\u001B[39m\u001B[38;5;124mgroup (i.e. separate plot, style and norm groups) is deprecated. \u001B[39m\u001B[38;5;124m\"\u001B[39m\n\u001B[1;32m    567\u001B[0m                \u001B[38;5;124m\"\u001B[39m\u001B[38;5;124mUse the .options method converting to the simplified format \u001B[39m\u001B[38;5;124m\"\u001B[39m\n\u001B[1;32m    568\u001B[0m                \u001B[38;5;124m\"\u001B[39m\u001B[38;5;124minstead or use hv.opts.apply_groups for backward compatibility.\u001B[39m\u001B[38;5;124m\"\u001B[39m)\n\u001B[1;32m    569\u001B[0m         param\u001B[38;5;241m.\u001B[39mmain\u001B[38;5;241m.\u001B[39mparam\u001B[38;5;241m.\u001B[39mwarning(msg)\n\u001B[0;32m--> 571\u001B[0m \u001B[38;5;28;01mreturn\u001B[39;00m \u001B[38;5;28;43mself\u001B[39;49m\u001B[38;5;241;43m.\u001B[39;49m\u001B[43m_dispatch_opts\u001B[49m\u001B[43m(\u001B[49m\u001B[43m \u001B[49m\u001B[38;5;241;43m*\u001B[39;49m\u001B[43margs\u001B[49m\u001B[43m,\u001B[49m\u001B[43m \u001B[49m\u001B[38;5;241;43m*\u001B[39;49m\u001B[38;5;241;43m*\u001B[39;49m\u001B[43mkwargs\u001B[49m\u001B[43m)\u001B[49m\n",
      "File \u001B[0;32m/Library/Frameworks/Python.framework/Versions/3.10/lib/python3.10/site-packages/holoviews/core/accessors.py:575\u001B[0m, in \u001B[0;36mOpts._dispatch_opts\u001B[0;34m(self, *args, **kwargs)\u001B[0m\n\u001B[1;32m    573\u001B[0m \u001B[38;5;28;01mdef\u001B[39;00m \u001B[38;5;21m_dispatch_opts\u001B[39m(\u001B[38;5;28mself\u001B[39m, \u001B[38;5;241m*\u001B[39margs, \u001B[38;5;241m*\u001B[39m\u001B[38;5;241m*\u001B[39mkwargs):\n\u001B[1;32m    574\u001B[0m     \u001B[38;5;28;01mif\u001B[39;00m \u001B[38;5;28mself\u001B[39m\u001B[38;5;241m.\u001B[39m_mode \u001B[38;5;129;01mis\u001B[39;00m \u001B[38;5;28;01mNone\u001B[39;00m:\n\u001B[0;32m--> 575\u001B[0m         \u001B[38;5;28;01mreturn\u001B[39;00m \u001B[38;5;28;43mself\u001B[39;49m\u001B[38;5;241;43m.\u001B[39;49m\u001B[43m_base_opts\u001B[49m\u001B[43m(\u001B[49m\u001B[38;5;241;43m*\u001B[39;49m\u001B[43margs\u001B[49m\u001B[43m,\u001B[49m\u001B[43m \u001B[49m\u001B[38;5;241;43m*\u001B[39;49m\u001B[38;5;241;43m*\u001B[39;49m\u001B[43mkwargs\u001B[49m\u001B[43m)\u001B[49m\n\u001B[1;32m    576\u001B[0m     \u001B[38;5;28;01melif\u001B[39;00m \u001B[38;5;28mself\u001B[39m\u001B[38;5;241m.\u001B[39m_mode \u001B[38;5;241m==\u001B[39m \u001B[38;5;124m'\u001B[39m\u001B[38;5;124mholomap\u001B[39m\u001B[38;5;124m'\u001B[39m:\n\u001B[1;32m    577\u001B[0m         \u001B[38;5;28;01mreturn\u001B[39;00m \u001B[38;5;28mself\u001B[39m\u001B[38;5;241m.\u001B[39m_holomap_opts(\u001B[38;5;241m*\u001B[39margs, \u001B[38;5;241m*\u001B[39m\u001B[38;5;241m*\u001B[39mkwargs)\n",
      "File \u001B[0;32m/Library/Frameworks/Python.framework/Versions/3.10/lib/python3.10/site-packages/holoviews/core/accessors.py:651\u001B[0m, in \u001B[0;36mOpts._base_opts\u001B[0;34m(self, *args, **kwargs)\u001B[0m\n\u001B[1;32m    649\u001B[0m     \u001B[38;5;28;01mif\u001B[39;00m options \u001B[38;5;129;01mis\u001B[39;00m \u001B[38;5;129;01mnot\u001B[39;00m \u001B[38;5;28;01mNone\u001B[39;00m:\n\u001B[1;32m    650\u001B[0m         kwargs[\u001B[38;5;124m'\u001B[39m\u001B[38;5;124moptions\u001B[39m\u001B[38;5;124m'\u001B[39m] \u001B[38;5;241m=\u001B[39m options\n\u001B[0;32m--> 651\u001B[0m     \u001B[38;5;28;01mreturn\u001B[39;00m \u001B[43mopts\u001B[49m\u001B[38;5;241;43m.\u001B[39;49m\u001B[43mapply_groups\u001B[49m\u001B[43m(\u001B[49m\u001B[38;5;28;43mself\u001B[39;49m\u001B[38;5;241;43m.\u001B[39;49m\u001B[43m_obj\u001B[49m\u001B[43m,\u001B[49m\u001B[43m \u001B[49m\u001B[38;5;241;43m*\u001B[39;49m\u001B[38;5;241;43m*\u001B[39;49m\u001B[38;5;28;43mdict\u001B[39;49m\u001B[43m(\u001B[49m\u001B[43mkwargs\u001B[49m\u001B[43m,\u001B[49m\u001B[43m \u001B[49m\u001B[38;5;241;43m*\u001B[39;49m\u001B[38;5;241;43m*\u001B[39;49m\u001B[43mnew_kwargs\u001B[49m\u001B[43m)\u001B[49m\u001B[43m)\u001B[49m\n\u001B[1;32m    653\u001B[0m kwargs[\u001B[38;5;124m'\u001B[39m\u001B[38;5;124mclone\u001B[39m\u001B[38;5;124m'\u001B[39m] \u001B[38;5;241m=\u001B[39m \u001B[38;5;28;01mFalse\u001B[39;00m \u001B[38;5;28;01mif\u001B[39;00m clone \u001B[38;5;129;01mis\u001B[39;00m \u001B[38;5;28;01mNone\u001B[39;00m \u001B[38;5;28;01melse\u001B[39;00m clone\n\u001B[1;32m    654\u001B[0m \u001B[38;5;28;01mreturn\u001B[39;00m \u001B[38;5;28mself\u001B[39m\u001B[38;5;241m.\u001B[39m_obj\u001B[38;5;241m.\u001B[39moptions(\u001B[38;5;241m*\u001B[39mnew_args, \u001B[38;5;241m*\u001B[39m\u001B[38;5;241m*\u001B[39mkwargs)\n",
      "File \u001B[0;32m/Library/Frameworks/Python.framework/Versions/3.10/lib/python3.10/site-packages/holoviews/util/__init__.py:225\u001B[0m, in \u001B[0;36mopts.apply_groups\u001B[0;34m(cls, obj, options, backend, clone, **kwargs)\u001B[0m\n\u001B[1;32m    222\u001B[0m     options \u001B[38;5;241m=\u001B[39m \u001B[38;5;28mcls\u001B[39m\u001B[38;5;241m.\u001B[39m_group_kwargs_to_options(obj, kwargs)\n\u001B[1;32m    224\u001B[0m \u001B[38;5;28;01mfor\u001B[39;00m backend, backend_opts \u001B[38;5;129;01min\u001B[39;00m \u001B[38;5;28mcls\u001B[39m\u001B[38;5;241m.\u001B[39m_grouped_backends(options, backend):\n\u001B[0;32m--> 225\u001B[0m     obj \u001B[38;5;241m=\u001B[39m \u001B[38;5;28;43mcls\u001B[39;49m\u001B[38;5;241;43m.\u001B[39;49m\u001B[43m_apply_groups_to_backend\u001B[49m\u001B[43m(\u001B[49m\u001B[43mobj\u001B[49m\u001B[43m,\u001B[49m\u001B[43m \u001B[49m\u001B[43mbackend_opts\u001B[49m\u001B[43m,\u001B[49m\u001B[43m \u001B[49m\u001B[43mbackend\u001B[49m\u001B[43m,\u001B[49m\u001B[43m \u001B[49m\u001B[43mclone\u001B[49m\u001B[43m)\u001B[49m\n\u001B[1;32m    226\u001B[0m \u001B[38;5;28;01mreturn\u001B[39;00m obj\n",
      "File \u001B[0;32m/Library/Frameworks/Python.framework/Versions/3.10/lib/python3.10/site-packages/holoviews/util/__init__.py:150\u001B[0m, in \u001B[0;36mopts._apply_groups_to_backend\u001B[0;34m(cls, obj, options, backend, clone)\u001B[0m\n\u001B[1;32m    147\u001B[0m \u001B[38;5;28;01melif\u001B[39;00m clone:\n\u001B[1;32m    148\u001B[0m     obj_handle \u001B[38;5;241m=\u001B[39m obj\u001B[38;5;241m.\u001B[39mmap(\u001B[38;5;28;01mlambda\u001B[39;00m x: x\u001B[38;5;241m.\u001B[39mclone(\u001B[38;5;28mid\u001B[39m\u001B[38;5;241m=\u001B[39mx\u001B[38;5;241m.\u001B[39mid))\n\u001B[0;32m--> 150\u001B[0m \u001B[38;5;28;01mreturn\u001B[39;00m \u001B[43mStoreOptions\u001B[49m\u001B[38;5;241;43m.\u001B[39;49m\u001B[43mset_options\u001B[49m\u001B[43m(\u001B[49m\u001B[43mobj_handle\u001B[49m\u001B[43m,\u001B[49m\u001B[43m \u001B[49m\u001B[43moptions\u001B[49m\u001B[43m,\u001B[49m\u001B[43m \u001B[49m\u001B[43mbackend\u001B[49m\u001B[38;5;241;43m=\u001B[39;49m\u001B[43mbackend\u001B[49m\u001B[43m)\u001B[49m\n",
      "File \u001B[0;32m/Library/Frameworks/Python.framework/Versions/3.10/lib/python3.10/site-packages/holoviews/core/options.py:1855\u001B[0m, in \u001B[0;36mStoreOptions.set_options\u001B[0;34m(cls, obj, options, backend, **kwargs)\u001B[0m\n\u001B[1;32m   1813\u001B[0m \u001B[38;5;124;03m\"\"\"\u001B[39;00m\n\u001B[1;32m   1814\u001B[0m \u001B[38;5;124;03mPure Python function for customize HoloViews objects in terms of\u001B[39;00m\n\u001B[1;32m   1815\u001B[0m \u001B[38;5;124;03mtheir style, plot and normalization options.\u001B[39;00m\n\u001B[0;32m   (...)\u001B[0m\n\u001B[1;32m   1848\u001B[0m \u001B[38;5;124;03mset_options(my_image, OptsSpec.parse(\"Image [size=50] (cmap='Blues')\"))\u001B[39;00m\n\u001B[1;32m   1849\u001B[0m \u001B[38;5;124;03m\"\"\"\u001B[39;00m\n\u001B[1;32m   1850\u001B[0m \u001B[38;5;66;03m# Note that an alternate, more verbose and less recommended\u001B[39;00m\n\u001B[1;32m   1851\u001B[0m \u001B[38;5;66;03m# syntax can also be used:\u001B[39;00m\n\u001B[1;32m   1852\u001B[0m \n\u001B[1;32m   1853\u001B[0m \u001B[38;5;66;03m# {'Image.Channel:{'plot':  Options(size=50),\u001B[39;00m\n\u001B[1;32m   1854\u001B[0m \u001B[38;5;66;03m#                  'style': Options('style', cmap='Blues')]}\u001B[39;00m\n\u001B[0;32m-> 1855\u001B[0m groups \u001B[38;5;241m=\u001B[39m \u001B[43mStore\u001B[49m\u001B[38;5;241;43m.\u001B[39;49m\u001B[43moptions\u001B[49m\u001B[43m(\u001B[49m\u001B[43mbackend\u001B[49m\u001B[38;5;241;43m=\u001B[39;49m\u001B[43mbackend\u001B[49m\u001B[43m)\u001B[49m\u001B[38;5;241m.\u001B[39mgroups\u001B[38;5;241m.\u001B[39mkeys()\n\u001B[1;32m   1856\u001B[0m options \u001B[38;5;241m=\u001B[39m \u001B[38;5;28mcls\u001B[39m\u001B[38;5;241m.\u001B[39mmerge_options(groups, options, \u001B[38;5;241m*\u001B[39m\u001B[38;5;241m*\u001B[39mkwargs)\n\u001B[1;32m   1857\u001B[0m spec, compositor_applied \u001B[38;5;241m=\u001B[39m \u001B[38;5;28mcls\u001B[39m\u001B[38;5;241m.\u001B[39mexpand_compositor_keys(options)\n",
      "File \u001B[0;32m/Library/Frameworks/Python.framework/Versions/3.10/lib/python3.10/site-packages/holoviews/core/options.py:1172\u001B[0m, in \u001B[0;36mStore.options\u001B[0;34m(cls, backend, val)\u001B[0m\n\u001B[1;32m   1170\u001B[0m backend \u001B[38;5;241m=\u001B[39m \u001B[38;5;28mcls\u001B[39m\u001B[38;5;241m.\u001B[39mcurrent_backend \u001B[38;5;28;01mif\u001B[39;00m backend \u001B[38;5;129;01mis\u001B[39;00m \u001B[38;5;28;01mNone\u001B[39;00m \u001B[38;5;28;01melse\u001B[39;00m backend\n\u001B[1;32m   1171\u001B[0m \u001B[38;5;28;01mif\u001B[39;00m val \u001B[38;5;129;01mis\u001B[39;00m \u001B[38;5;28;01mNone\u001B[39;00m:\n\u001B[0;32m-> 1172\u001B[0m     \u001B[38;5;28;01mreturn\u001B[39;00m \u001B[38;5;28;43mcls\u001B[39;49m\u001B[38;5;241;43m.\u001B[39;49m\u001B[43m_options\u001B[49m\u001B[43m[\u001B[49m\u001B[43mbackend\u001B[49m\u001B[43m]\u001B[49m\n\u001B[1;32m   1173\u001B[0m \u001B[38;5;28;01melse\u001B[39;00m:\n\u001B[1;32m   1174\u001B[0m     \u001B[38;5;28mcls\u001B[39m\u001B[38;5;241m.\u001B[39m_lookup_cache[backend] \u001B[38;5;241m=\u001B[39m {}\n",
      "\u001B[0;31mKeyError\u001B[0m: 'matplotlib'"
     ]
    }
   ],
   "source": [
    "import holoviews as hv\n",
    "import networkx as nx\n",
    "import matplotlib\n",
    "\n",
    "my_graph = nx.star_graph(5)\n",
    "nx.set_node_attributes(my_graph, name=\"height\", values=\"Tall\")\n",
    "nx.set_node_attributes(my_graph, name=\"degree\", values=\"MSc\")\n",
    "nx.set_node_attributes(my_graph, name=\"preferredfood\", values=\"Pizza\")\n",
    "\n",
    "def get_graph(label):\n",
    "    plot_opts = dict(color_index = label,\n",
    "                     edge_color_index = \"weight\",\n",
    "                     width = 500,\n",
    "                     height = 500,\n",
    "                     xaxis = None,\n",
    "                     yaxis = None,\n",
    "                     show_frame = False,\n",
    "                     tools = ['hover'])\n",
    "\n",
    "    style_opts = dict(node_size = 15,\n",
    "                      cmap = \"RdYlBu\",\n",
    "                      node_alpha = 0.95,\n",
    "                      edge_cmap = \"blues\",\n",
    "                      edge_line_width = 0.85,\n",
    "                      edge_alpha = 1)\n",
    "\n",
    "    return hv.Graph.from_networkx(my_graph,\n",
    "                                  positions=nx.spring_layout\n",
    "                                  ).opts(\n",
    "        style = style_opts,\n",
    "        plot = plot_opts\n",
    "    )\n",
    "\n",
    "hv.HoloMap({label: get_graph(label) for label in [\"height\",\"degree\",\"preferredfood\"]}, kdims=[\"label\"])"
   ],
   "metadata": {
    "collapsed": false,
    "pycharm": {
     "name": "#%%\n"
    }
   }
  },
  {
   "cell_type": "code",
   "execution_count": null,
   "outputs": [],
   "source": [],
   "metadata": {
    "collapsed": false,
    "pycharm": {
     "name": "#%%\n"
    }
   }
  }
 ],
 "metadata": {
  "kernelspec": {
   "display_name": "Python 3",
   "language": "python",
   "name": "python3"
  },
  "language_info": {
   "codemirror_mode": {
    "name": "ipython",
    "version": 2
   },
   "file_extension": ".py",
   "mimetype": "text/x-python",
   "name": "python",
   "nbconvert_exporter": "python",
   "pygments_lexer": "ipython2",
   "version": "2.7.6"
  }
 },
 "nbformat": 4,
 "nbformat_minor": 0
}