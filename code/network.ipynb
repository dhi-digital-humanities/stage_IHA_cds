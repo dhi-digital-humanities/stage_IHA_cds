{
 "cells": [
  {
   "cell_type": "markdown",
   "metadata": {
    "pycharm": {
     "name": "#%% md\n"
    }
   },
   "source": [
    "# Script for Visualising the Correspondence Network of CdS Over the Decades\n",
    "\n",
    "This script can be used to visualise network data from the CdS correspondence. The visualisations are interactive and allow the user to comprehend the development over the decades.\n",
    "\n",
    "It is essential to install the following packages for using this script (this can be done using the IDE or ``pip install <package>``:\n",
    "* [pandas](https://pandas.pydata.org/docs/)\n",
    "* [networkx](https://networkx.org)\n",
    "* [hvplot](https://hvplot.holoviz.org)\n",
    "* [holoviews](https://holoviews.org)"
   ]
  },
  {
   "cell_type": "code",
   "execution_count": 40,
   "outputs": [],
   "source": [
    "import pandas as pd\n",
    "import networkx as nx\n",
    "import hvplot.networkx as hvnx\n",
    "import holoviews as hv\n",
    "import hvplot.pandas # noqa\n",
    "import panel as pn\n",
    "\n",
    "pn.extension(sizing_mode='stretch_width')"
   ],
   "metadata": {
    "collapsed": false,
    "pycharm": {
     "name": "#%%\n"
    }
   }
  },
  {
   "cell_type": "markdown",
   "metadata": {
    "pycharm": {
     "name": "#%% md\n"
    }
   },
   "source": [
    "### Reading in data from CSV"
   ]
  },
  {
   "cell_type": "code",
   "execution_count": 3,
   "metadata": {
    "pycharm": {
     "name": "#%%\n"
    }
   },
   "outputs": [],
   "source": [
    "df = pd.read_csv('../data/network_data.csv')\n",
    "df = df.rename(columns={\"counts\": \"weights\"})"
   ]
  },
  {
   "cell_type": "markdown",
   "source": [
    "### The data needs to be divided into subsets to enable a filtering with a slider set on top of the visualisation"
   ],
   "metadata": {
    "collapsed": false,
    "pycharm": {
     "name": "#%% md\n"
    }
   }
  },
  {
   "cell_type": "code",
   "execution_count": 38,
   "outputs": [
    {
     "name": "stdout",
     "output_type": "stream",
     "text": [
      "dict_keys([1790.0, 1800.0, 1810.0, 1820.0, 1830.0, 1840.0])\n"
     ]
    }
   ],
   "source": [
    "# Create a mask of the dataframe with a group for each decade. Result is stored in a dictionary.\n",
    "grouped_mask = df.groupby('decade')\n",
    "grouped_mask = grouped_mask.groups"
   ],
   "metadata": {
    "collapsed": false,
    "pycharm": {
     "name": "#%%\n"
    }
   }
  },
  {
   "cell_type": "code",
   "execution_count": 65,
   "outputs": [
    {
     "ename": "TypeError",
     "evalue": "unhashable type: 'Interactive'",
     "output_type": "error",
     "traceback": [
      "\u001B[0;31m---------------------------------------------------------------------------\u001B[0m",
      "\u001B[0;31mTypeError\u001B[0m                                 Traceback (most recent call last)",
      "Input \u001B[0;32mIn [65]\u001B[0m, in \u001B[0;36m<cell line: 14>\u001B[0;34m()\u001B[0m\n\u001B[1;32m      9\u001B[0m \u001B[38;5;66;03m# Testing the slider.\u001B[39;00m\n\u001B[1;32m     10\u001B[0m filtered_subrange \u001B[38;5;241m=\u001B[39m dfi[\n\u001B[1;32m     11\u001B[0m     (dfi\u001B[38;5;241m.\u001B[39mdecade \u001B[38;5;241m>\u001B[39m decade_slider)\n\u001B[1;32m     12\u001B[0m ]\n\u001B[0;32m---> 14\u001B[0m G \u001B[38;5;241m=\u001B[39m \u001B[43mnx\u001B[49m\u001B[38;5;241;43m.\u001B[39;49m\u001B[43mfrom_pandas_edgelist\u001B[49m\u001B[43m(\u001B[49m\n\u001B[1;32m     15\u001B[0m \u001B[43m    \u001B[49m\u001B[43mfiltered_subrange\u001B[49m\u001B[43m[\u001B[49m\u001B[43m:\u001B[49m\u001B[38;5;241;43m50\u001B[39;49m\u001B[43m]\u001B[49m\u001B[43m,\u001B[49m\n\u001B[1;32m     16\u001B[0m \u001B[43m    \u001B[49m\u001B[38;5;124;43m\"\u001B[39;49m\u001B[38;5;124;43mVerfasser\u001B[39;49m\u001B[38;5;124;43m\"\u001B[39;49m\u001B[43m,\u001B[49m\n\u001B[1;32m     17\u001B[0m \u001B[43m    \u001B[49m\u001B[38;5;124;43m\"\u001B[39;49m\u001B[38;5;124;43mEmpfänger\u001B[39;49m\u001B[38;5;124;43m\"\u001B[39;49m\u001B[43m,\u001B[49m\n\u001B[1;32m     18\u001B[0m \u001B[43m    \u001B[49m\u001B[43medge_attr\u001B[49m\u001B[38;5;241;43m=\u001B[39;49m\u001B[38;5;124;43m'\u001B[39;49m\u001B[38;5;124;43mweights\u001B[39;49m\u001B[38;5;124;43m'\u001B[39;49m\u001B[43m,\u001B[49m\n\u001B[1;32m     19\u001B[0m \u001B[43m    \u001B[49m\u001B[43mcreate_using\u001B[49m\u001B[38;5;241;43m=\u001B[39;49m\u001B[43mnx\u001B[49m\u001B[38;5;241;43m.\u001B[39;49m\u001B[43mMultiGraph\u001B[49m\u001B[43m(\u001B[49m\u001B[43m)\u001B[49m\u001B[43m,\u001B[49m\n\u001B[1;32m     20\u001B[0m \u001B[43m)\u001B[49m\n",
      "File \u001B[0;32m/Library/Frameworks/Python.framework/Versions/3.10/lib/python3.10/site-packages/networkx/convert_matrix.py:468\u001B[0m, in \u001B[0;36mfrom_pandas_edgelist\u001B[0;34m(df, source, target, edge_attr, create_using, edge_key)\u001B[0m\n\u001B[1;32m    466\u001B[0m             key \u001B[38;5;241m=\u001B[39m g\u001B[38;5;241m.\u001B[39madd_edge(s, t, key\u001B[38;5;241m=\u001B[39mmultigraph_edge_key)\n\u001B[1;32m    467\u001B[0m         \u001B[38;5;28;01melse\u001B[39;00m:\n\u001B[0;32m--> 468\u001B[0m             key \u001B[38;5;241m=\u001B[39m \u001B[43mg\u001B[49m\u001B[38;5;241;43m.\u001B[39;49m\u001B[43madd_edge\u001B[49m\u001B[43m(\u001B[49m\u001B[43ms\u001B[49m\u001B[43m,\u001B[49m\u001B[43m \u001B[49m\u001B[43mt\u001B[49m\u001B[43m)\u001B[49m\n\u001B[1;32m    470\u001B[0m         g[s][t][key]\u001B[38;5;241m.\u001B[39mupdate(\u001B[38;5;28mzip\u001B[39m(attr_col_headings, attrs))\n\u001B[1;32m    471\u001B[0m \u001B[38;5;28;01melse\u001B[39;00m:\n",
      "File \u001B[0;32m/Library/Frameworks/Python.framework/Versions/3.10/lib/python3.10/site-packages/networkx/classes/multigraph.py:483\u001B[0m, in \u001B[0;36mMultiGraph.add_edge\u001B[0;34m(self, u_for_edge, v_for_edge, key, **attr)\u001B[0m\n\u001B[1;32m    481\u001B[0m u, v \u001B[38;5;241m=\u001B[39m u_for_edge, v_for_edge\n\u001B[1;32m    482\u001B[0m \u001B[38;5;66;03m# add nodes\u001B[39;00m\n\u001B[0;32m--> 483\u001B[0m \u001B[38;5;28;01mif\u001B[39;00m \u001B[43mu\u001B[49m\u001B[43m \u001B[49m\u001B[38;5;129;43;01mnot\u001B[39;49;00m\u001B[43m \u001B[49m\u001B[38;5;129;43;01min\u001B[39;49;00m\u001B[43m \u001B[49m\u001B[38;5;28;43mself\u001B[39;49m\u001B[38;5;241;43m.\u001B[39;49m\u001B[43m_adj\u001B[49m:\n\u001B[1;32m    484\u001B[0m     \u001B[38;5;28;01mif\u001B[39;00m u \u001B[38;5;129;01mis\u001B[39;00m \u001B[38;5;28;01mNone\u001B[39;00m:\n\u001B[1;32m    485\u001B[0m         \u001B[38;5;28;01mraise\u001B[39;00m \u001B[38;5;167;01mValueError\u001B[39;00m(\u001B[38;5;124m\"\u001B[39m\u001B[38;5;124mNone cannot be a node\u001B[39m\u001B[38;5;124m\"\u001B[39m)\n",
      "\u001B[0;31mTypeError\u001B[0m: unhashable type: 'Interactive'"
     ]
    }
   ],
   "source": [
    "dfi = df.interactive(sizing_mode='stretch_width')\n",
    "decade_slider = pn.widgets.FloatSlider(\n",
    "    name='Decades',\n",
    "    start=min(grouped_mask.keys()),\n",
    "    end=max(grouped_mask.keys()),\n",
    ")\n",
    "\n",
    "\n",
    "# Testing the slider.\n",
    "filtered_subrange = dfi[\n",
    "    (dfi.decade > decade_slider)\n",
    "]\n",
    "\n",
    "G = hvplot.(\n",
    "    filtered_subrange[:50],\n",
    "    \"Verfasser\",\n",
    "    \"Empfänger\",\n",
    "    edge_attr='weights',\n",
    "    create_using=nx.MultiGraph(),\n",
    ")\n",
    "\n",
    "hv.HoloMap({i: hv.Graph.from_networkx(G, nx.spring_layout, iterations=i, seed=10) for i in range(5, 30, 5)},\n",
    "           kdims='Iterations')"
   ],
   "metadata": {
    "collapsed": false,
    "pycharm": {
     "name": "#%%\n"
    }
   }
  },
  {
   "cell_type": "code",
   "execution_count": null,
   "metadata": {
    "pycharm": {
     "name": "#%%\n"
    }
   },
   "outputs": [],
   "source": [
    "# Create graph from the dataframe that includes information about nodes and their connecting edges.\n",
    "\n",
    "G = nx.from_pandas_edgelist(\n",
    "    df[:50],\n",
    "    \"Verfasser\",\n",
    "    \"Empfänger\",\n",
    "    edge_attr='weights',\n",
    "    create_using=nx.MultiGraph(),\n",
    ")\n",
    "\n",
    "elarge = [(u, v) for (u, v, attr) in G.edges(data=True) if attr['weights'] > 30]\n",
    "emedium =  [(u, v) for (u, v, attr) in G.edges(data=True) if (10 < attr['weights'] <= 30)]\n",
    "esmall = [(u, v) for (u, v, attr) in G.edges(data=True) if attr['weights'] <= 10]\n",
    "\n",
    "pos = nx.spring_layout(G)\n",
    "nodes = hvnx.draw_networkx_nodes(\n",
    "    G,\n",
    "    pos,\n",
    "    node_color='blue'\n",
    ")\n",
    "edges_large = hvnx.draw_networkx_edges(\n",
    "    G,\n",
    "    pos,\n",
    "    arrowstyle='->',\n",
    "    edgelist=elarge,\n",
    "    edge_width=10,\n",
    "    edge_cmap='Blues',\n",
    "    colorbar=True,\n",
    ")\n",
    "\n",
    "edges_medium = hvnx.draw_networkx_edges(\n",
    "    G,\n",
    "    pos,\n",
    "    arrowstyle='->',\n",
    "    edgelist=emedium,\n",
    "    edge_width=6,\n",
    "    edge_cmap='Blues',\n",
    "    colorbar=True,\n",
    ")\n",
    "\n",
    "\n",
    "edges_small = hvnx.draw_networkx_edges(\n",
    "    G,\n",
    "    pos,\n",
    "    arrowstyle='->',\n",
    "    edgelist=emedium,\n",
    "    edge_width=3,\n",
    "    edge_cmap='Blues',\n",
    "    colorbar=True,\n",
    ")\n",
    "\n",
    "labels = hvnx.draw_networkx_labels(\n",
    "    G,\n",
    "    pos,\n",
    "    font_size=20,\n",
    "    font_family='sans-serif'\n",
    ")\n",
    "\n",
    "\n",
    "hvnx.show(edges_large * edges_medium * edges_small * nodes * labels)"
   ]
  }
 ],
 "metadata": {
  "kernelspec": {
   "display_name": "Python 3",
   "language": "python",
   "name": "python3"
  },
  "language_info": {
   "codemirror_mode": {
    "name": "ipython",
    "version": 3
   },
   "file_extension": ".py",
   "mimetype": "text/x-python",
   "name": "python",
   "nbconvert_exporter": "python",
   "pygments_lexer": "ipython3",
   "version": "3.8.3"
  }
 },
 "nbformat": 4,
 "nbformat_minor": 1
}