{
 "cells": [
  {
   "cell_type": "markdown",
   "metadata": {
    "pycharm": {
     "name": "#%% md\n"
    }
   },
   "source": [
    "# Script for Visualising the Correspondence Network of CdS Over the Decades\n",
    "\n",
    "This script can be used to visualise network data from the CdS correspondence. The visualisations are interactive and allow the user to comprehend the development over the decades.\n",
    "\n",
    "It is essential to install the following packages for using this script (this can be done using the IDE or ``pip install <package>``:\n",
    "* [pandas](https://pandas.pydata.org/docs/)\n",
    "* [networkx](https://networkx.org)\n",
    "* [hvplot](https://hvplot.holoviz.org)\n",
    "* [holoviews](https://holoviews.org)"
   ]
  },
  {
   "cell_type": "code",
   "execution_count": 40,
   "outputs": [],
   "source": [
    "import pandas as pd\n",
    "import networkx as nx\n",
    "import hvplot.networkx as hvnx\n",
    "import holoviews as hv\n",
    "import hvplot.pandas # noqa\n",
    "import panel as pn\n",
    "\n",
    "pn.extension(sizing_mode='stretch_width')"
   ],
   "metadata": {
    "collapsed": false,
    "pycharm": {
     "name": "#%%\n"
    }
   }
  },
  {
   "cell_type": "markdown",
   "metadata": {
    "pycharm": {
     "name": "#%% md\n"
    }
   },
   "source": [
    "### Reading in data from CSV"
   ]
  },
  {
   "cell_type": "code",
   "execution_count": 3,
   "metadata": {
    "pycharm": {
     "name": "#%%\n"
    }
   },
   "outputs": [],
   "source": [
    "df = pd.read_csv('../data/network_data.csv')\n",
    "df = df.rename(columns={\"counts\": \"weights\"})"
   ]
  },
  {
   "cell_type": "markdown",
   "source": [
    "### The data needs to be divided into subsets to enable a filtering with a slider set on top of the visualisation"
   ],
   "metadata": {
    "collapsed": false,
    "pycharm": {
     "name": "#%% md\n"
    }
   }
  },
  {
   "cell_type": "code",
   "execution_count": 38,
   "outputs": [
    {
     "name": "stdout",
     "output_type": "stream",
     "text": [
      "dict_keys([1790.0, 1800.0, 1810.0, 1820.0, 1830.0, 1840.0])\n"
     ]
    }
   ],
   "source": [
    "# Create a mask of the dataframe with a group for each decade. Result is stored in a dictionary.\n",
    "grouped_mask = df.groupby('decade')\n",
    "grouped_mask = grouped_mask.groups"
   ],
   "metadata": {
    "collapsed": false,
    "pycharm": {
     "name": "#%%\n"
    }
   }
  },
  {
   "cell_type": "code",
   "execution_count": 54,
   "outputs": [
    {
     "data": {},
     "metadata": {},
     "output_type": "display_data"
    },
    {
     "data": {
      "text/html": "<div id='1057'>\n  <div class=\"bk-root\" id=\"0551668e-c5af-47ff-87a8-4dba9de21bde\" data-root-id=\"1057\"></div>\n</div>\n<script type=\"application/javascript\">(function(root) {\n  function embed_document(root) {\n    var docs_json = {\"7c609619-5450-40c3-81ca-b6417e7fc4f1\":{\"defs\":[{\"extends\":null,\"module\":null,\"name\":\"ReactiveHTML1\",\"overrides\":[],\"properties\":[]},{\"extends\":null,\"module\":null,\"name\":\"FlexBox1\",\"overrides\":[],\"properties\":[{\"default\":\"flex-start\",\"kind\":null,\"name\":\"align_content\"},{\"default\":\"flex-start\",\"kind\":null,\"name\":\"align_items\"},{\"default\":\"row\",\"kind\":null,\"name\":\"flex_direction\"},{\"default\":\"wrap\",\"kind\":null,\"name\":\"flex_wrap\"},{\"default\":\"flex-start\",\"kind\":null,\"name\":\"justify_content\"}]},{\"extends\":null,\"module\":null,\"name\":\"GridStack1\",\"overrides\":[],\"properties\":[{\"default\":\"warn\",\"kind\":null,\"name\":\"mode\"},{\"default\":null,\"kind\":null,\"name\":\"ncols\"},{\"default\":null,\"kind\":null,\"name\":\"nrows\"},{\"default\":true,\"kind\":null,\"name\":\"allow_resize\"},{\"default\":true,\"kind\":null,\"name\":\"allow_drag\"},{\"default\":[],\"kind\":null,\"name\":\"state\"}]},{\"extends\":null,\"module\":null,\"name\":\"click1\",\"overrides\":[],\"properties\":[{\"default\":\"\",\"kind\":null,\"name\":\"terminal_output\"},{\"default\":\"\",\"kind\":null,\"name\":\"debug_name\"},{\"default\":0,\"kind\":null,\"name\":\"clears\"}]},{\"extends\":null,\"module\":null,\"name\":\"NotificationAreaBase1\",\"overrides\":[],\"properties\":[{\"default\":\"bottom-right\",\"kind\":null,\"name\":\"position\"},{\"default\":0,\"kind\":null,\"name\":\"_clear\"}]},{\"extends\":null,\"module\":null,\"name\":\"NotificationArea1\",\"overrides\":[],\"properties\":[{\"default\":[],\"kind\":null,\"name\":\"notifications\"},{\"default\":\"bottom-right\",\"kind\":null,\"name\":\"position\"},{\"default\":0,\"kind\":null,\"name\":\"_clear\"},{\"default\":[{\"background\":\"#ffc107\",\"icon\":{\"className\":\"fas fa-exclamation-triangle\",\"color\":\"white\",\"tagName\":\"i\"},\"type\":\"warning\"},{\"background\":\"#007bff\",\"icon\":{\"className\":\"fas fa-info-circle\",\"color\":\"white\",\"tagName\":\"i\"},\"type\":\"info\"}],\"kind\":null,\"name\":\"types\"}]},{\"extends\":null,\"module\":null,\"name\":\"Notification\",\"overrides\":[],\"properties\":[{\"default\":null,\"kind\":null,\"name\":\"background\"},{\"default\":3000,\"kind\":null,\"name\":\"duration\"},{\"default\":null,\"kind\":null,\"name\":\"icon\"},{\"default\":\"\",\"kind\":null,\"name\":\"message\"},{\"default\":null,\"kind\":null,\"name\":\"notification_type\"},{\"default\":false,\"kind\":null,\"name\":\"_destroyed\"}]},{\"extends\":null,\"module\":null,\"name\":\"TemplateActions1\",\"overrides\":[],\"properties\":[{\"default\":0,\"kind\":null,\"name\":\"open_modal\"},{\"default\":0,\"kind\":null,\"name\":\"close_modal\"}]},{\"extends\":null,\"module\":null,\"name\":\"MaterialTemplateActions1\",\"overrides\":[],\"properties\":[{\"default\":0,\"kind\":null,\"name\":\"open_modal\"},{\"default\":0,\"kind\":null,\"name\":\"close_modal\"}]}],\"roots\":{\"references\":[{\"attributes\":{\"margin\":[5,5,5,5],\"name\":\"HSpacer03004\",\"sizing_mode\":\"stretch_width\"},\"id\":\"1062\",\"type\":\"Spacer\"},{\"attributes\":{\"children\":[{\"id\":\"1059\"},{\"id\":\"1063\"}],\"margin\":[0,0,0,0],\"name\":\"Column03006\",\"sizing_mode\":\"stretch_width\"},\"id\":\"1058\",\"type\":\"Column\"},{\"attributes\":{\"children\":[{\"id\":\"1058\"}],\"margin\":[0,0,0,0],\"name\":\"Row03007\",\"sizing_mode\":\"stretch_width\"},\"id\":\"1057\",\"type\":\"Row\"},{\"attributes\":{\"margin\":[5,5,5,5],\"name\":\"DataFrame03002\",\"sizing_mode\":\"stretch_width\",\"text\":\"&lt;table border=&quot;0&quot; class=&quot;dataframe panel-df&quot;&gt;\\n  &lt;thead&gt;\\n    &lt;tr style=&quot;text-align: right;&quot;&gt;\\n      &lt;th&gt;&lt;/th&gt;\\n      &lt;th&gt;Unnamed: 0&lt;/th&gt;\\n      &lt;th&gt;Verfasser&lt;/th&gt;\\n      &lt;th&gt;decade&lt;/th&gt;\\n      &lt;th&gt;Empf\\u00e4nger&lt;/th&gt;\\n      &lt;th&gt;weights&lt;/th&gt;\\n    &lt;/tr&gt;\\n  &lt;/thead&gt;\\n  &lt;tbody&gt;\\n    &lt;tr&gt;\\n      &lt;th&gt;0&lt;/th&gt;\\n      &lt;td&gt;0&lt;/td&gt;\\n      &lt;td&gt;Salm, Constance de&lt;/td&gt;\\n      &lt;td&gt;1830.0&lt;/td&gt;\\n      &lt;td&gt;Ladoucette, Jean Charles Fran\\u00e7ois, baron de&lt;/td&gt;\\n      &lt;td&gt;67&lt;/td&gt;\\n    &lt;/tr&gt;\\n    &lt;tr&gt;\\n      &lt;th&gt;1&lt;/th&gt;\\n      &lt;td&gt;1&lt;/td&gt;\\n      &lt;td&gt;Salm, Constance de&lt;/td&gt;\\n      &lt;td&gt;1820.0&lt;/td&gt;\\n      &lt;td&gt;Ladoucette, Jean Charles Fran\\u00e7ois, baron de&lt;/td&gt;\\n      &lt;td&gt;56&lt;/td&gt;\\n    &lt;/tr&gt;\\n    &lt;tr&gt;\\n      &lt;th&gt;2&lt;/th&gt;\\n      &lt;td&gt;2&lt;/td&gt;\\n      &lt;td&gt;Salm, Constance de&lt;/td&gt;\\n      &lt;td&gt;1820.0&lt;/td&gt;\\n      &lt;td&gt;Pailliet, Jean Baptiste Joseph (Anwalt der CdS in Orl\\u00e9ans, um 1829)&lt;/td&gt;\\n      &lt;td&gt;56&lt;/td&gt;\\n    &lt;/tr&gt;\\n    &lt;tr&gt;\\n      &lt;th&gt;3&lt;/th&gt;\\n      &lt;td&gt;3&lt;/td&gt;\\n      &lt;td&gt;Salm, Constance de&lt;/td&gt;\\n      &lt;td&gt;1830.0&lt;/td&gt;\\n      &lt;td&gt;Sanson de Pongerville, Jean-Baptiste&lt;/td&gt;\\n      &lt;td&gt;51&lt;/td&gt;\\n    &lt;/tr&gt;\\n    &lt;tr&gt;\\n      &lt;th&gt;4&lt;/th&gt;\\n      &lt;td&gt;4&lt;/td&gt;\\n      &lt;td&gt;Salm, Constance de&lt;/td&gt;\\n      &lt;td&gt;1810.0&lt;/td&gt;\\n      &lt;td&gt;Francq, Agathe Cl\\u00e9mence, baronne de, geb. Pipelet, gen. Minette&lt;/td&gt;\\n      &lt;td&gt;51&lt;/td&gt;\\n    &lt;/tr&gt;\\n    &lt;tr&gt;\\n      &lt;th&gt;5&lt;/th&gt;\\n      &lt;td&gt;5&lt;/td&gt;\\n      &lt;td&gt;Salm, Constance de&lt;/td&gt;\\n      &lt;td&gt;1830.0&lt;/td&gt;\\n      &lt;td&gt;Th\\u00e9is, Alexandre \\u00c9tienne Guillaume, baron de (Bruder der CdS)&lt;/td&gt;\\n      &lt;td&gt;49&lt;/td&gt;\\n    &lt;/tr&gt;\\n    &lt;tr&gt;\\n      &lt;th&gt;6&lt;/th&gt;\\n      &lt;td&gt;6&lt;/td&gt;\\n      &lt;td&gt;Salm, Constance de&lt;/td&gt;\\n      &lt;td&gt;1830.0&lt;/td&gt;\\n      &lt;td&gt;Villenave, Mathieu-Guillaume-Th\\u00e9r\\u00e8se&lt;/td&gt;\\n      &lt;td&gt;49&lt;/td&gt;\\n    &lt;/tr&gt;\\n    &lt;tr&gt;\\n      &lt;th&gt;7&lt;/th&gt;\\n      &lt;td&gt;7&lt;/td&gt;\\n      &lt;td&gt;Salm, Constance de&lt;/td&gt;\\n      &lt;td&gt;1840.0&lt;/td&gt;\\n      &lt;td&gt;Salm-Reifferscheidt-Dyck, Joseph F\\u00fcrst und Altgraf zu (SRD)&lt;/td&gt;\\n      &lt;td&gt;44&lt;/td&gt;\\n    &lt;/tr&gt;\\n    &lt;tr&gt;\\n      &lt;th&gt;8&lt;/th&gt;\\n      &lt;td&gt;8&lt;/td&gt;\\n      &lt;td&gt;Salm, Constance de&lt;/td&gt;\\n      &lt;td&gt;1830.0&lt;/td&gt;\\n      &lt;td&gt;Jullien de Paris, Marc-Antoine&lt;/td&gt;\\n      &lt;td&gt;39&lt;/td&gt;\\n    &lt;/tr&gt;\\n    &lt;tr&gt;\\n      &lt;th&gt;9&lt;/th&gt;\\n      &lt;td&gt;9&lt;/td&gt;\\n      &lt;td&gt;Salm, Constance de&lt;/td&gt;\\n      &lt;td&gt;1810.0&lt;/td&gt;\\n      &lt;td&gt;Barbier, Antoine-Alexandre&lt;/td&gt;\\n      &lt;td&gt;39&lt;/td&gt;\\n    &lt;/tr&gt;\\n  &lt;/tbody&gt;\\n&lt;/table&gt;\"},\"id\":\"1064\",\"type\":\"panel.models.markup.HTML\"},{\"attributes\":{\"client_comm_id\":\"d54c927d91be422089c89d97409a346a\",\"comm_id\":\"358c7587347f478e8da770eeadd06ad7\",\"plot_id\":\"1057\"},\"id\":\"1065\",\"type\":\"panel.models.comm_manager.CommManager\"},{\"attributes\":{\"children\":[{\"id\":\"1064\"}],\"margin\":[0,0,0,0],\"name\":\"Row02986\",\"sizing_mode\":\"stretch_width\"},\"id\":\"1063\",\"type\":\"Row\"},{\"attributes\":{\"children\":[{\"id\":\"1060\"},{\"id\":\"1062\"}],\"margin\":[0,0,0,0],\"name\":\"Row03005\",\"sizing_mode\":\"stretch_width\"},\"id\":\"1059\",\"type\":\"Row\"},{\"attributes\":{\"children\":[{\"id\":\"1061\"}],\"margin\":[0,0,0,0],\"name\":\"Column02981\",\"sizing_mode\":\"stretch_width\"},\"id\":\"1060\",\"type\":\"Column\"},{\"attributes\":{\"end\":1840.0,\"margin\":[5,10,5,10],\"sizing_mode\":\"stretch_width\",\"start\":1790.0,\"step\":0.1,\"title\":\"Decades\",\"value\":1790.0},\"id\":\"1061\",\"type\":\"Slider\"}],\"root_ids\":[\"1057\",\"1065\"]},\"title\":\"Bokeh Application\",\"version\":\"2.4.3\"}};\n    var render_items = [{\"docid\":\"7c609619-5450-40c3-81ca-b6417e7fc4f1\",\"root_ids\":[\"1057\"],\"roots\":{\"1057\":\"0551668e-c5af-47ff-87a8-4dba9de21bde\"}}];\n    root.Bokeh.embed.embed_items_notebook(docs_json, render_items);\n  }\n  if (root.Bokeh !== undefined && root.Bokeh.Panel !== undefined) {\n    embed_document(root);\n  } else {\n    var attempts = 0;\n    var timer = setInterval(function(root) {\n      if (root.Bokeh !== undefined && root.Bokeh.Panel !== undefined) {\n        clearInterval(timer);\n        embed_document(root);\n      } else if (document.readyState == \"complete\") {\n        attempts++;\n        if (attempts > 200) {\n          clearInterval(timer);\n          console.log(\"Bokeh: ERROR: Unable to run BokehJS code because BokehJS library is missing\");\n        }\n      }\n    }, 25, root)\n  }\n})(window);</script>",
      "application/vnd.holoviews_exec.v0+json": "",
      "text/plain": "<hvplot.interactive.Interactive at 0x11f203850>"
     },
     "execution_count": 54,
     "metadata": {
      "application/vnd.holoviews_exec.v0+json": {
       "id": "1057"
      }
     },
     "output_type": "execute_result"
    }
   ],
   "source": [
    "dfi = df.interactive(sizing_mode='stretch_width')\n",
    "decade_slider = pn.widgets.FloatSlider(\n",
    "    name='Decades',\n",
    "    start=min(grouped_mask.keys()),\n",
    "    end=max(grouped_mask.keys()),\n",
    ")\n",
    "\n",
    "\n",
    "\n",
    "dfi[dfi['decade'] > decade_slider].head(10)"
   ],
   "metadata": {
    "collapsed": false,
    "pycharm": {
     "name": "#%%\n"
    }
   }
  },
  {
   "cell_type": "code",
   "execution_count": null,
   "metadata": {
    "pycharm": {
     "name": "#%%\n"
    }
   },
   "outputs": [],
   "source": [
    "# Create graph from the dataframe that includes information about nodes and their connecting edges.\n",
    "\n",
    "G = nx.from_pandas_edgelist(\n",
    "    df[:50],\n",
    "    \"Verfasser\",\n",
    "    \"Empfänger\",\n",
    "    edge_attr='weights',\n",
    "    create_using=nx.MultiGraph(),\n",
    ")\n",
    "\n",
    "elarge = [(u, v) for (u, v, attr) in G.edges(data=True) if attr['weights'] > 30]\n",
    "emedium =  [(u, v) for (u, v, attr) in G.edges(data=True) if (10 < attr['weights'] <= 30)]\n",
    "esmall = [(u, v) for (u, v, attr) in G.edges(data=True) if attr['weights'] <= 10]\n",
    "\n",
    "pos = nx.spring_layout(G)\n",
    "nodes = hvnx.draw_networkx_nodes(\n",
    "    G,\n",
    "    pos,\n",
    "    node_color='blue'\n",
    ")\n",
    "edges_large = hvnx.draw_networkx_edges(\n",
    "    G,\n",
    "    pos,\n",
    "    arrowstyle='->',\n",
    "    edgelist=elarge,\n",
    "    edge_width=10,\n",
    "    edge_cmap='Blues',\n",
    "    colorbar=True,\n",
    ")\n",
    "\n",
    "edges_medium = hvnx.draw_networkx_edges(\n",
    "    G,\n",
    "    pos,\n",
    "    arrowstyle='->',\n",
    "    edgelist=emedium,\n",
    "    edge_width=6,\n",
    "    edge_cmap='Blues',\n",
    "    colorbar=True,\n",
    ")\n",
    "\n",
    "\n",
    "edges_small = hvnx.draw_networkx_edges(\n",
    "    G,\n",
    "    pos,\n",
    "    arrowstyle='->',\n",
    "    edgelist=emedium,\n",
    "    edge_width=3,\n",
    "    edge_cmap='Blues',\n",
    "    colorbar=True,\n",
    ")\n",
    "\n",
    "labels = hvnx.draw_networkx_labels(\n",
    "    G,\n",
    "    pos,\n",
    "    font_size=20,\n",
    "    font_family='sans-serif'\n",
    ")\n",
    "\n",
    "\n",
    "hvnx.show(edges_large * edges_medium * edges_small * nodes * labels)"
   ]
  }
 ],
 "metadata": {
  "kernelspec": {
   "display_name": "Python 3",
   "language": "python",
   "name": "python3"
  },
  "language_info": {
   "codemirror_mode": {
    "name": "ipython",
    "version": 3
   },
   "file_extension": ".py",
   "mimetype": "text/x-python",
   "name": "python",
   "nbconvert_exporter": "python",
   "pygments_lexer": "ipython3",
   "version": "3.8.3"
  }
 },
 "nbformat": 4,
 "nbformat_minor": 1
}