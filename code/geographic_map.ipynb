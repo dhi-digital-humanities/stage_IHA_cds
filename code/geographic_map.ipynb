{
 "cells": [
  {
   "cell_type": "markdown",
   "source": [
    "* Ideas for visualisation of the correspondence network on a map, still with ongoing interaction? Maybe! [plotly](https://plotly.com/python/lines-on-maps/)"
   ],
   "metadata": {
    "collapsed": false,
    "pycharm": {
     "name": "#%% md\n"
    }
   }
  },
  {
   "cell_type": "code",
   "execution_count": 1,
   "outputs": [
    {
     "ename": "SyntaxError",
     "evalue": "(unicode error) 'unicodeescape' codec can't decode bytes in position 2-3: truncated \\UXXXXXXXX escape (geonames.py, line 253)",
     "output_type": "error",
     "traceback": [
      "Traceback \u001B[0;36m(most recent call last)\u001B[0m:\n",
      "  File \u001B[1;32m/Library/Frameworks/Python.framework/Versions/3.10/lib/python3.10/site-packages/IPython/core/interactiveshell.py:3397\u001B[0m in \u001B[1;35mrun_code\u001B[0m\n    exec(code_obj, self.user_global_ns, self.user_ns)\n",
      "  Input \u001B[1;32mIn [1]\u001B[0m in \u001B[1;35m<cell line: 8>\u001B[0m\n    import geonames\n",
      "\u001B[0;36m  File \u001B[0;32m/Library/Frameworks/Python.framework/Versions/3.10/lib/python3.10/site-packages/geonames/__init__.py:22\u001B[0;36m in \u001B[0;35m<module>\u001B[0;36m\u001B[0m\n\u001B[0;31m    from .geonames import Geonames\u001B[0m\n",
      "\u001B[0;36m  File \u001B[0;32m/Library/Frameworks/Python.framework/Versions/3.10/lib/python3.10/site-packages/geonames/geonames.py:253\u001B[0;36m\u001B[0m\n\u001B[0;31m    geonames = Geonames('C:\\Users\\GEO_Admin\\Downloads\\JM\\JM.txt')\u001B[0m\n\u001B[0m                                                                ^\u001B[0m\n\u001B[0;31mSyntaxError\u001B[0m\u001B[0;31m:\u001B[0m (unicode error) 'unicodeescape' codec can't decode bytes in position 2-3: truncated \\UXXXXXXXX escape\n"
     ]
    }
   ],
   "source": [
    "import re\n",
    "\n",
    "import pandas as pd\n",
    "import matplotlib as mpl\n",
    "import matplotlib.pyplot as plt\n",
    "import seaborn as sns\n",
    "import geocoder\n",
    "import geonames\n",
    "\n",
    "# Add geographic information (long- and latitude) to the data.\n",
    "\n",
    "g = geocoder.geonames(6094817, method='details', geoNamesUsername=\"sarahondraszek\", key=\"sarahondraszek\")\n",
    "print(g.lat, g.lng)\n",
    "\n",
    "CDS_GND = \"1161012168\"\n",
    "GND_LINK = \"http://d-nb.info/gnd/\"\n",
    "GEONAMES_LINK = \"https://www.geonames.org/\"\n",
    "\n",
    "\n",
    "def data_retrieval(input_path: str = \"../data/retrieved/filtered_cds_data.csv\") -> (pd.DataFrame, pd.DataFrame):\n",
    "    # Retrieve all data with geo information\n",
    "    df = pd.read_excel(input_path)\n",
    "    # Retrieve geographic data\n",
    "    print([df[df['Ausstellungsort (Geonames)']]])\n",
    "\n",
    "    return df\n",
    "\n",
    "\n",
    "\n",
    "\n",
    "#def visualisation():"
   ],
   "metadata": {
    "collapsed": false,
    "pycharm": {
     "name": "#%%\n"
    }
   }
  },
  {
   "cell_type": "code",
   "execution_count": null,
   "outputs": [],
   "source": [],
   "metadata": {
    "collapsed": false,
    "pycharm": {
     "name": "#%%\n"
    }
   }
  }
 ],
 "metadata": {
  "kernelspec": {
   "display_name": "Python 3",
   "language": "python",
   "name": "python3"
  },
  "language_info": {
   "codemirror_mode": {
    "name": "ipython",
    "version": 2
   },
   "file_extension": ".py",
   "mimetype": "text/x-python",
   "name": "python",
   "nbconvert_exporter": "python",
   "pygments_lexer": "ipython2",
   "version": "2.7.6"
  }
 },
 "nbformat": 4,
 "nbformat_minor": 0
}