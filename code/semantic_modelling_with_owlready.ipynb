{
 "cells": [
  {
   "cell_type": "code",
   "execution_count": null,
   "outputs": [],
   "source": [
    "from owlready2 import *\n",
    "import pandas as pd"
   ],
   "metadata": {
    "collapsed": false,
    "pycharm": {
     "name": "#%%\n",
     "is_executing": true
    }
   }
  },
  {
   "cell_type": "code",
   "execution_count": 2,
   "outputs": [],
   "source": [
    "onto = get_ontology(\"/Users/sarahreb/Desktop/local/protege_files/cds-ontology.owl\").load()\n",
    "\n",
    "gndo = Namespace(\n",
    "    world_or_ontology=onto,\n",
    "    base_iri=\"https://d-nb.info/gnd/\",\n",
    "    name=\"gndo\"\n",
    ")\n",
    "\n",
    "cds_docs = Namespace(\n",
    "    world_or_ontology=onto,\n",
    "    base_iri=\"https://constance-de-salm.de/archiv/#/document/\",\n",
    "    name=\"cds_docs\"\n",
    ")"
   ],
   "metadata": {
    "collapsed": false,
    "pycharm": {
     "name": "#%%\n"
    }
   }
  },
  {
   "cell_type": "code",
   "execution_count": null,
   "outputs": [],
   "source": [
    "\"\"\"Individuals are instances in ontologies. They are created as any other Python instances. The first parameter is the name (or identifier) of the Individual; it corresponds to the .name attribute in Owlready2. If not given, the name if automatically generated from the Class name and a number.\n",
    "\"\"\""
   ],
   "metadata": {
    "collapsed": false,
    "pycharm": {
     "name": "#%%\n",
     "is_executing": true
    }
   }
  },
  {
   "cell_type": "code",
   "execution_count": null,
   "outputs": [],
   "source": [
    "# Parsing CSV file as DataFrame in order to create individuals.\n",
    "\n",
    "df = pd.read_csv('../data/retrieved/filtered_cds_data.csv')\n",
    "df = df.fillna(0)\n",
    "df"
   ],
   "metadata": {
    "collapsed": false,
    "pycharm": {
     "name": "#%%\n",
     "is_executing": true
    }
   }
  },
  {
   "cell_type": "code",
   "execution_count": 6,
   "outputs": [],
   "source": [
    "# Adding instances of the CdS letters with senders and addressees.\n",
    "index = 0\n",
    "for url in df['URL']:\n",
    "    new_letter = onto.Letter(re.sub('https://constance-de-salm.de/archiv/#/document/', '', url), namespace=cds_docs)\n",
    "    new_letter.fud_key = df['FuD-Key'][index]\n",
    "    new_letter.has_year.append(int(df['year'][index]))\n",
    "    new_letter.has_decade.append(int(df['decade'][index]))\n",
    "    new_letter.has_date.append(df['Datierung (JJJJ-MM-TT)'][index])\n",
    "    new_sender = onto.Sender(re.sub('http://d-nb.info/gnd/', '', df['GND (Verfasser)'][index]), namespace=gndo)\n",
    "    new_sender.label = df['Verfasser'][index]\n",
    "    new_sender.has_viaf = df['VIAF (Verfasser)'][index]\n",
    "    new_letter.has_sender.append(new_sender)\n",
    "    if df['GND (Empfänger)'][index] == 0:\n",
    "        new_addressee = onto.Sender(str(index), namespace=onto)\n",
    "    else:\n",
    "        new_addressee = onto.Sender(re.sub('http://d-nb.info/gnd/', '', df['GND (Empfänger)'][index]), namespace=gndo)\n",
    "    new_addressee.label = df['Empfänger'][index]\n",
    "    new_addressee.has_viaf = df['VIAF (Empfänger)'][index]\n",
    "    new_letter.has_addressee.append(new_addressee)\n",
    "    index += 1"
   ],
   "metadata": {
    "collapsed": false,
    "pycharm": {
     "name": "#%%\n"
    }
   }
  },
  {
   "cell_type": "code",
   "execution_count": null,
   "outputs": [],
   "source": [
    "for i in onto.Letter.instances():\n",
    "    #destroy_entity(i)\n",
    "    print(i, i.has_date, i.fud_key, i.has_decade, i.has_year, i.has_sender, i.has_addressee)"
   ],
   "metadata": {
    "collapsed": false,
    "pycharm": {
     "name": "#%%\n",
     "is_executing": true
    }
   }
  },
  {
   "cell_type": "code",
   "execution_count": 9,
   "outputs": [],
   "source": [
    "onto.save(file = \"cds_onto_test.owl\", format = \"rdfxml\")"
   ],
   "metadata": {
    "collapsed": false,
    "pycharm": {
     "name": "#%%\n"
    }
   }
  },
  {
   "cell_type": "code",
   "execution_count": null,
   "outputs": [],
   "source": [],
   "metadata": {
    "collapsed": false,
    "pycharm": {
     "name": "#%%\n"
    }
   }
  }
 ],
 "metadata": {
  "kernelspec": {
   "display_name": "Python 3",
   "language": "python",
   "name": "python3"
  },
  "language_info": {
   "codemirror_mode": {
    "name": "ipython",
    "version": 2
   },
   "file_extension": ".py",
   "mimetype": "text/x-python",
   "name": "python",
   "nbconvert_exporter": "python",
   "pygments_lexer": "ipython2",
   "version": "2.7.6"
  }
 },
 "nbformat": 4,
 "nbformat_minor": 0
}