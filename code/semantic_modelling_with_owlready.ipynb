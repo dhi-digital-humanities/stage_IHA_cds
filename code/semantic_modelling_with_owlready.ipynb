{
 "cells": [
  {
   "cell_type": "code",
   "execution_count": 1,
   "outputs": [
    {
     "name": "stderr",
     "output_type": "stream",
     "text": [
      "* Owlready2 * Warning: optimized Cython parser module 'owlready2_optimized' is not available, defaulting to slower Python implementation\n"
     ]
    }
   ],
   "source": [
    "import pandas as pd\n",
    "from owlready2 import *"
   ],
   "metadata": {
    "collapsed": false,
    "pycharm": {
     "name": "#%%\n"
    }
   }
  },
  {
   "cell_type": "code",
   "execution_count": 2,
   "outputs": [],
   "source": [
    "onto = get_ontology(\"/Users/sarahreb/Desktop/local/protege_files/cds-ontology.owl\").load()\n",
    "\n",
    "gndo = Namespace(\n",
    "    world_or_ontology=onto,\n",
    "    base_iri=\"https://d-nb.info/gnd/\",\n",
    "    name=\"gndo\"\n",
    ")\n",
    "\n",
    "cds_docs = Namespace(\n",
    "    world_or_ontology=onto,\n",
    "    base_iri=\"https://constance-de-salm.de/archiv/#/document/\",\n",
    "    name=\"cds_docs\"\n",
    ")\n",
    "\n",
    "gn = Namespace(\n",
    "    world_or_ontology=onto,\n",
    "    base_iri=\"https://www.geonames.org/\",\n",
    "    name=\"gn\"\n",
    ")\n",
    "\n",
    "viaf = Namespace(\n",
    "    world_or_ontology=onto,\n",
    "    base_iri=\"https://viaf.org/viaf/\",\n",
    "    name=\"viaf\"\n",
    ")\n",
    "\n",
    "wikidata = Namespace(\n",
    "    world_or_ontology=onto,\n",
    "    base_iri=\"https://www.wikidata.org/wiki/\",\n",
    "    name=\"wikidata\"\n",
    ")\n",
    "\n"
   ],
   "metadata": {
    "collapsed": false,
    "pycharm": {
     "name": "#%%\n"
    }
   }
  },
  {
   "cell_type": "code",
   "execution_count": null,
   "outputs": [],
   "source": [
    "\"\"\"Individuals are instances in ontologies. They are created as any other Python instances. The first parameter is the name (or identifier) of the Individual; it corresponds to the .name attribute in Owlready2. If not given, the name if automatically generated from the Class name and a number.\n",
    "\"\"\""
   ],
   "metadata": {
    "collapsed": false,
    "pycharm": {
     "name": "#%%\n",
     "is_executing": true
    }
   }
  },
  {
   "cell_type": "code",
   "execution_count": null,
   "outputs": [],
   "source": [
    "# Parsing CSV file as DataFrame in order to create individuals.\n",
    "\n",
    "df = pd.read_csv('../data/retrieved/filtered_cds_data.csv')\n",
    "df = df.fillna(0)\n",
    "df"
   ],
   "metadata": {
    "collapsed": false,
    "pycharm": {
     "name": "#%%\n",
     "is_executing": true
    }
   }
  },
  {
   "cell_type": "code",
   "execution_count": null,
   "outputs": [],
   "source": [
    "sachindex = pd.read_csv('../data/retrieved/sachindex_additional_data_completed-v2.csv', sep=\";\")\n",
    "sachindex = sachindex.drop(columns='Unnamed: 0', axis=1)\n",
    "sachindex = sachindex.fillna(0)\n",
    "sachindex"
   ],
   "metadata": {
    "collapsed": false,
    "pycharm": {
     "name": "#%%\n",
     "is_executing": true
    }
   }
  },
  {
   "cell_type": "code",
   "execution_count": null,
   "outputs": [],
   "source": [
    "# Adding instances of the CdS letters with senders and addressees, topics and places of exposition.\n",
    "index = 0\n",
    "for url in df['URL']:\n",
    "    new_letter = onto.Letter(re.sub('https://constance-de-salm.de/archiv/#/document/', '', url), namespace=cds_docs)\n",
    "    new_letter.fud_key = df['FuD-Key'][index]\n",
    "    new_letter.has_year.append(int(df['year'][index]))\n",
    "    new_letter.has_decade.append(int(df['decade'][index]))\n",
    "    new_letter.has_date.append(df['Datierung (JJJJ-MM-TT)'][index])\n",
    "    new_sender = onto.Sender(re.sub('http://d-nb.info/gnd/', '', df['GND (Verfasser)'][index]), namespace=gndo)\n",
    "    new_sender.label = df['Verfasser'][index]\n",
    "    new_sender.has_viaf = df['VIAF (Verfasser)'][index]\n",
    "    new_letter.has_sender.append(new_sender)\n",
    "    if df['GND (Empfänger)'][index] == 0 and df['VIAF (Empfänger)'][index] != 0:\n",
    "        new_addressee = onto.Addressee(re.sub('http://viaf.org/viaf/', '', df['VIAF (Empfänger)'][index]), namespace=viaf)\n",
    "    elif df['GND (Empfänger)'][index] == 0 and df['VIAF (Empfänger)'][index] == 0:\n",
    "        new_addressee = onto.Addressee(str(index), namespace=onto)\n",
    "    else:\n",
    "        new_addressee = onto.Addressee(re.sub('http://d-nb.info/gnd/', '', df['GND (Empfänger)'][index]), namespace=gndo)\n",
    "        if not df['VIAF (Empfänger)'][index] == 0:\n",
    "            new_addressee.has_viaf = df['VIAF (Empfänger)'][index]\n",
    "    new_addressee.label = df['Empfänger'][index]\n",
    "    new_letter.has_addressee.append(new_addressee)\n",
    "\n",
    "    if df['Schlagwörter'][index] == 0:\n",
    "        empty_topic = onto.Topic(\"t0\", namespace=onto)\n",
    "        empty_topic.label = \"Empty Topic\"\n",
    "        new_letter.has_topic.append(empty_topic)\n",
    "    else:\n",
    "        for keyword_list in df['Schlagwörter'][index].split(\";\"):\n",
    "            for keyword in keyword_list.split(\";\"):\n",
    "                l = [word.strip() for word in keyword.split('/')]\n",
    "                for word in l:\n",
    "                    try:\n",
    "                        w_i = 0\n",
    "                        entry = sachindex.loc[sachindex['Deutsch'] == word]['Wikidata'].values[0]\n",
    "                        if entry == 0:\n",
    "                            new_topic = onto.Topic(\"t_\"+str(int(sachindex[sachindex['Deutsch']==word].index[0])), namespace=onto)\n",
    "                            new_topic.label = word\n",
    "                            new_letter.has_topic.append(new_topic)\n",
    "                        else:\n",
    "                            new_topic = onto.Topic(re.sub('https://www.wikidata.org/wiki/', '', entry),\n",
    "                                                   namespace=wikidata)\n",
    "                            new_topic.label = word\n",
    "                            new_letter.has_topic.append(new_topic)\n",
    "                        w_i += 1\n",
    "                    except ValueError and IndexError:\n",
    "                        continue\n",
    "\n",
    "\n",
    "    index += 1"
   ],
   "metadata": {
    "collapsed": false,
    "pycharm": {
     "name": "#%%\n",
     "is_executing": true
    }
   }
  },
  {
   "cell_type": "code",
   "execution_count": null,
   "outputs": [],
   "source": [
    "for i in onto.Letter.instances():\n",
    "    #destroy_entity(i)\n",
    "    print(i, i.has_date, i.fud_key, i.has_decade, i.has_year, i.has_sender, i.has_addressee, i.has_topic)\n",
    "\n",
    "\n",
    "for t in onto.Topic.instances():\n",
    "    print(t, t.label)"
   ],
   "metadata": {
    "collapsed": false,
    "pycharm": {
     "name": "#%%\n",
     "is_executing": true
    }
   }
  }
 ],
 "metadata": {
  "kernelspec": {
   "display_name": "Python 3",
   "language": "python",
   "name": "python3"
  },
  "language_info": {
   "codemirror_mode": {
    "name": "ipython",
    "version": 2
   },
   "file_extension": ".py",
   "mimetype": "text/x-python",
   "name": "python",
   "nbconvert_exporter": "python",
   "pygments_lexer": "ipython2",
   "version": "2.7.6"
  }
 },
 "nbformat": 4,
 "nbformat_minor": 0
}