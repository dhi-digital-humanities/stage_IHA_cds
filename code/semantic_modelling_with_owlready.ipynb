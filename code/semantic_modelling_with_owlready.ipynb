{
 "cells": [
  {
   "cell_type": "code",
   "execution_count": null,
   "outputs": [],
   "source": [
    "import geocoder\n",
    "import pandas as pd\n",
    "from owlready2 import *"
   ],
   "metadata": {
    "collapsed": false,
    "pycharm": {
     "is_executing": true
    }
   }
  },
  {
   "cell_type": "code",
   "execution_count": 2,
   "outputs": [],
   "source": [
    "onto = get_ontology(\"/Users/sarahreb/Desktop/local/protege_files/cds-ontology.owl\").load()\n",
    "\n",
    "gndo = Namespace(\n",
    "    world_or_ontology=onto,\n",
    "    base_iri=\"https://d-nb.info/gnd/\",\n",
    "    name=\"gndo\"\n",
    ")\n",
    "\n",
    "cds_docs = Namespace(\n",
    "    world_or_ontology=onto,\n",
    "    base_iri=\"https://constance-de-salm.de/archiv/#/document/\",\n",
    "    name=\"cds_docs\"\n",
    ")\n",
    "\n",
    "gn = Namespace(\n",
    "    world_or_ontology=onto,\n",
    "    base_iri=\"https://www.geonames.org/\",\n",
    "    name=\"gn\"\n",
    ")\n",
    "\n",
    "viaf = Namespace(\n",
    "    world_or_ontology=onto,\n",
    "    base_iri=\"https://viaf.org/viaf/\",\n",
    "    name=\"viaf\"\n",
    ")\n",
    "\n",
    "wikidata = Namespace(\n",
    "    world_or_ontology=onto,\n",
    "    base_iri=\"https://www.wikidata.org/wiki/\",\n",
    "    name=\"wikidata\"\n",
    ")\n",
    "\n",
    "gn_onto = Namespace(\n",
    "    world_or_ontology=onto,\n",
    "    base_iri=\"https://www.geonames.org/ontology#\",\n",
    "    name=\"gn_onto\"\n",
    ")\n"
   ],
   "metadata": {
    "collapsed": false
   }
  },
  {
   "cell_type": "code",
   "execution_count": null,
   "outputs": [],
   "source": [
    "\"\"\"Individuals are instances in ontologies. They are created as any other Python instances. The first parameter is the name (or identifier) of the Individual; it corresponds to the .name attribute in Owlready2. If not given, the name if automatically generated from the Class name and a number.\n",
    "\"\"\""
   ],
   "metadata": {
    "collapsed": false,
    "pycharm": {
     "is_executing": true
    }
   }
  },
  {
   "cell_type": "code",
   "execution_count": null,
   "outputs": [],
   "source": [
    "# Parsing CSV file as DataFrame in order to create individuals.\n",
    "\n",
    "df = pd.read_csv('../data/retrieved/filtered_cds_data.csv')\n",
    "df = df.fillna(0)"
   ],
   "metadata": {
    "collapsed": false,
    "pycharm": {
     "is_executing": true
    }
   }
  },
  {
   "cell_type": "code",
   "execution_count": null,
   "outputs": [],
   "source": [
    "sachindex = pd.read_csv('../data/retrieved/sachindex_additional_data_completed-v2.csv', sep=\";\")\n",
    "sachindex = sachindex.drop(columns='Unnamed: 0', axis=1)\n",
    "sachindex = sachindex.fillna(0)"
   ],
   "metadata": {
    "collapsed": false,
    "pycharm": {
     "is_executing": true
    }
   }
  },
  {
   "cell_type": "code",
   "execution_count": 6,
   "outputs": [],
   "source": [
    "def get_geodata(dataframe: pd.DataFrame, feature_column: str) -> None:\n",
    "    for feature in dataframe[feature_column].unique():\n",
    "        if feature != 0:\n",
    "            g = geocoder.geonames(\n",
    "                re.sub(\n",
    "                    'https://www.geonames.org/',\n",
    "                    '',\n",
    "                    str(feature)\n",
    "                ),\n",
    "                method='details',\n",
    "                geoNamesUsername=\"sarahondraszek\",\n",
    "                key=\"sarahondraszek\"\n",
    "            )\n",
    "            t_g = gn_onto.Feature(re.sub(\n",
    "                    'https://www.geonames.org/',\n",
    "                    '',\n",
    "                    str(feature)\n",
    "                ), namespace=gn)\n",
    "            t_g.lat.append(g.lat)\n",
    "            t_g.long.append(g.lng)"
   ],
   "metadata": {
    "collapsed": false
   }
  },
  {
   "cell_type": "code",
   "execution_count": 7,
   "outputs": [],
   "source": [
    "get_geodata(df, 'Geonames (Ausstellungsort)')"
   ],
   "metadata": {
    "collapsed": false
   }
  },
  {
   "cell_type": "code",
   "execution_count": 8,
   "outputs": [],
   "source": [
    "def create_topic(indicator: str, w: str, substitue: str = '', e: str ='') -> onto.Topic:\n",
    "    if indicator == \"own\":\n",
    "        t = onto.Topic(\n",
    "            \"t_\"+str(int(sachindex[sachindex['Deutsch']==w].index[0])),\n",
    "            namespace=onto\n",
    "        )\n",
    "        t.label = w\n",
    "    elif indicator == \"wikidata\":\n",
    "        t = onto.Topic(\n",
    "            re.sub(\n",
    "                substitue,\n",
    "                '',\n",
    "                e\n",
    "            ),\n",
    "            namespace=wikidata\n",
    "        )\n",
    "        t.label = w\n",
    "\n",
    "    return t"
   ],
   "metadata": {
    "collapsed": false
   }
  },
  {
   "cell_type": "code",
   "execution_count": 9,
   "outputs": [],
   "source": [
    "def create_letter(input_url: str, idx: int, dataframe: pd.DataFrame, ns: Namespace) -> onto.Letter:\n",
    "    l = onto.Letter(re.sub(cds_docs.base_iri, '', input_url), namespace=ns)\n",
    "    l.fud_key = dataframe['FuD-Key'][idx]\n",
    "    l.has_year.append(int(dataframe['year'][idx]))\n",
    "    l.has_decade.append(int(dataframe['decade'][idx]))\n",
    "    l.has_date.append(dataframe['Datierung (JJJJ-MM-TT)'][idx])\n",
    "\n",
    "    return l"
   ],
   "metadata": {
    "collapsed": false
   }
  },
  {
   "cell_type": "code",
   "execution_count": 10,
   "outputs": [],
   "source": [
    "def add_person_properties(instnc: onto.Person, dataframe: pd.DataFrame, idx: int, indicator: str) -> None:\n",
    "    instnc.label = dataframe[indicator][idx]\n",
    "    instnc.has_viaf = dataframe[f'VIAF ({indicator})'][idx]"
   ],
   "metadata": {
    "collapsed": false
   }
  },
  {
   "cell_type": "code",
   "execution_count": 11,
   "outputs": [],
   "source": [
    "# Adding instances of the CdS letters with senders and addressees, topics and places of exposition.\n",
    "index = 0\n",
    "for url in df['URL']:\n",
    "    # Adding new letter to ontology.\n",
    "    new_letter = create_letter(input_url=url, idx=index, dataframe=df, ns=cds_docs)\n",
    "    # Adding sender to ontology.\n",
    "    new_sender = onto.Sender(re.sub(gndo.base_iri, '', df['GND (Verfasser)'][index]), namespace=gndo)\n",
    "    # Add properties to sender/receiver\n",
    "    add_person_properties(instnc=new_sender, dataframe=df, idx=index, indicator=\"Verfasser\")\n",
    "    # Append sender to letter.\n",
    "    new_letter.has_sender.append(new_sender)\n",
    "\n",
    "    # Adding receiver to ontology.\n",
    "    if df['GND (Empfänger)'][index] == 0 and df['VIAF (Empfänger)'][index] != 0:\n",
    "        new_addressee = onto.Addressee(re.sub(viaf.base_iri, '', df['VIAF (Empfänger)'][index]), namespace=viaf)\n",
    "    elif df['GND (Empfänger)'][index] == 0 and df['VIAF (Empfänger)'][index] == 0:\n",
    "        new_addressee = onto.Addressee(str(index), namespace=onto)\n",
    "    else:\n",
    "        new_addressee = onto.Addressee(re.sub(gndo.base_iri, '', df['GND (Empfänger)'][index]), namespace=gndo)\n",
    "        if not df['VIAF (Empfänger)'][index] == 0:\n",
    "            new_addressee.has_viaf = df['VIAF (Empfänger)'][index]\n",
    "    new_addressee.label = df['Empfänger'][index]\n",
    "    # Appending receiver to letter.\n",
    "    new_letter.has_addressee.append(new_addressee)\n",
    "\n",
    "    # Adding topics to ontology and appending them to the letter.\n",
    "    if df['Schlagwörter'][index] == 0:\n",
    "        empty_topic = onto.Topic(\"t0\", namespace=onto)\n",
    "        empty_topic.label = \"Empty Topic\"\n",
    "        new_letter.has_topic.append(empty_topic)\n",
    "    else:\n",
    "        for keyword_list in df['Schlagwörter'][index].split(\";\"):\n",
    "            for keyword in keyword_list.split(\";\"):\n",
    "                l = [word.strip() for word in keyword.split('/')]\n",
    "                for word in l:\n",
    "                    try:\n",
    "                        w_i = 0\n",
    "                        entry = sachindex.loc[sachindex['Deutsch'] == word]['Wikidata'].values[0]\n",
    "                        if entry == 0:\n",
    "                            new_topic = create_topic(indicator=\"own\", w=word)\n",
    "                            new_letter.has_topic.append(new_topic)\n",
    "                        else:\n",
    "                            new_topic = create_topic(substitue=wikidata.base_iri, w=word, e=entry, indicator=\"wikidata\")\n",
    "                            new_letter.has_topic.append(new_topic)\n",
    "                        w_i += 1\n",
    "                    except ValueError and IndexError:\n",
    "                        continue\n",
    "\n",
    "    if df['Geonames (Ausstellungsort)'][index] != 0:\n",
    "        for x in gn_onto.Feature.instances():\n",
    "            if x.iri == df['Geonames (Ausstellungsort)'][index]:\n",
    "                new_letter.has_place_of_exposition.append(x)\n",
    "\n",
    "\n",
    "    index += 1"
   ],
   "metadata": {
    "collapsed": false
   }
  },
  {
   "cell_type": "code",
   "execution_count": 12,
   "outputs": [],
   "source": [
    "onto.save(file = \"../data/owl/cds_onto.owl\", format = \"rdfxml\")"
   ],
   "metadata": {
    "collapsed": false
   }
  }
 ],
 "metadata": {
  "kernelspec": {
   "display_name": "Python 3",
   "language": "python",
   "name": "python3"
  },
  "language_info": {
   "codemirror_mode": {
    "name": "ipython",
    "version": 2
   },
   "file_extension": ".py",
   "mimetype": "text/x-python",
   "name": "python",
   "nbconvert_exporter": "python",
   "pygments_lexer": "ipython2",
   "version": "2.7.6"
  }
 },
 "nbformat": 4,
 "nbformat_minor": 0
}
