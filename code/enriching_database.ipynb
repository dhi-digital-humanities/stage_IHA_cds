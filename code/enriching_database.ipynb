{
 "cells": [
  {
   "cell_type": "markdown",
   "source": [
    "# A Correspondence Contextualised\n",
    "This is a script for enriching existing data about keywords or person information with information from [Wikidata](https://www.wikidata.org/wiki/Wikidata:Main_Page)."
   ],
   "metadata": {
    "collapsed": false
   }
  },
  {
   "cell_type": "code",
   "execution_count": 2,
   "outputs": [],
   "source": [
    "import pandas as pd\n",
    "from json import JSONDecodeError\n",
    "from qwikidata.sparql  import return_sparql_query_results\n",
    "from SPARQLWrapper import SPARQLWrapper, JSON\n",
    "import geocoder\n",
    "import re"
   ],
   "metadata": {
    "collapsed": false
   }
  },
  {
   "cell_type": "code",
   "execution_count": 60,
   "outputs": [],
   "source": [
    "df = pd.read_excel('../data/cds_sheets/Kopie_von_20220816_sachindex_cds.xlsx')\n",
    "\n",
    "# Cells that include entries with more than one value and that are seperated by a backslash are split into separate cells.\n",
    "df_merged = (df.set_index(df.columns.drop('Deutsch',1).tolist()).Deutsch.str.split('/', expand=True).stack().reset_index().rename(columns={0:'Deutsch'}).loc[:, df.columns])\n",
    "df_merged.to_csv('../data/retrieved/sachindex_singular_values.csv')\n",
    "\n"
   ],
   "metadata": {
    "collapsed": false
   }
  },
  {
   "cell_type": "code",
   "execution_count": 75,
   "outputs": [],
   "source": [
    "def enrich_data():\n",
    "    index = 0\n",
    "    for string in df_merged['Deutsch']:\n",
    "        try:\n",
    "            query = f'' \\\n",
    "                    f'SELECT ?item ?label_fr ' \\\n",
    "                    f'  WHERE {{' \\\n",
    "                    f'      ?item rdfs:label \"{string}\"@de. ' \\\n",
    "                    f'      ?item rdfs:label ?label_fr filter (lang(?label_fr) = \"fr\").' \\\n",
    "                    f'  }}'\n",
    "            res = return_sparql_query_results(query)\n",
    "            df_merged['Wikidata'][index] = [item['item']['value'] for item in res['results']['bindings']]\n",
    "            df_merged['Französisch'][index] = [item['label_fr']['value'] for item in res['results']['bindings']]\n",
    "\n",
    "            index += 1\n",
    "        except JSONDecodeError:\n",
    "            index += 1\n",
    "            continue\n",
    "\n",
    "    df_merged.to_csv('../data/retrieved/sachindex_additional_data.csv')"
   ],
   "metadata": {
    "collapsed": false
   }
  },
  {
   "cell_type": "code",
   "execution_count": null,
   "outputs": [],
   "source": [
    "enrich_data()"
   ],
   "metadata": {
    "collapsed": false
   }
  },
  {
   "cell_type": "code",
   "execution_count": 3,
   "outputs": [
    {
     "data": {
      "text/plain": "      Unnamed: 0      FuD-Key      letzte Änderung Dokumenttyp  \\\n0            100  CdS-b1-000s  2022-08-19 10:18:12       Brief   \n1            108  CdS-b1-0021  2022-08-19 10:18:12       Brief   \n2            110  CdS-b1-000z  2022-08-19 10:18:12       Brief   \n3            111  CdS-b1-0026  2022-08-19 10:18:12       Brief   \n4            112  CdS-b1-0016  2022-08-19 10:18:12       Brief   \n...          ...          ...                  ...         ...   \n2026       10716  CdS-b1-08iu  2022-08-19 10:18:12       Brief   \n2027       10717  CdS-b1-08jb  2022-08-19 10:18:12       Brief   \n2028       10720  CdS-b1-08in  2022-08-19 10:18:12       Brief   \n2029       10721  CdS-b1-08iz  2022-08-19 10:18:12       Brief   \n2030       10722  CdS-b1-08j6  2022-08-19 10:18:12       Brief   \n\n                                                    URL              Nr.  \\\n0     https://constance-de-salm.de/archiv/#/document/28  C11/S84/020-022   \n1     https://constance-de-salm.de/archiv/#/document/73  C11/S84/117-119   \n2     https://constance-de-salm.de/archiv/#/document/35  C11/S84/037-038   \n3     https://constance-de-salm.de/archiv/#/document/78      C11/S84/131   \n4     https://constance-de-salm.de/archiv/#/document/42      C11/S84/052   \n...                                                 ...              ...   \n2026  https://constance-de-salm.de/archiv/#/document...   CdS/31/125-126   \n2027  https://constance-de-salm.de/archiv/#/document...   CdS/31/098-099   \n2028  https://constance-de-salm.de/archiv/#/document...   CdS/31/039-040   \n2029  https://constance-de-salm.de/archiv/#/document...   CdS/31/062-063   \n2030  https://constance-de-salm.de/archiv/#/document...   CdS/31/079-080   \n\n               Verfasser                 GND (Verfasser)  \\\n0     Salm, Constance de  http://d-nb.info/gnd/116765968   \n1     Salm, Constance de  http://d-nb.info/gnd/116765968   \n2     Salm, Constance de  http://d-nb.info/gnd/116765968   \n3     Salm, Constance de  http://d-nb.info/gnd/116765968   \n4     Salm, Constance de  http://d-nb.info/gnd/116765968   \n...                  ...                             ...   \n2026  Salm, Constance de  http://d-nb.info/gnd/116765968   \n2027  Salm, Constance de  http://d-nb.info/gnd/116765968   \n2028  Salm, Constance de  http://d-nb.info/gnd/116765968   \n2029  Salm, Constance de  http://d-nb.info/gnd/116765968   \n2030  Salm, Constance de  http://d-nb.info/gnd/116765968   \n\n                  VIAF (Verfasser)  \\\n0     https://viaf.org/viaf/121051   \n1     https://viaf.org/viaf/121051   \n2     https://viaf.org/viaf/121051   \n3     https://viaf.org/viaf/121051   \n4     https://viaf.org/viaf/121051   \n...                            ...   \n2026  https://viaf.org/viaf/121051   \n2027  https://viaf.org/viaf/121051   \n2028  https://viaf.org/viaf/121051   \n2029  https://viaf.org/viaf/121051   \n2030  https://viaf.org/viaf/121051   \n\n                                              Empfänger  ...  \\\n0                            Barbier, Antoine-Alexandre  ...   \n1                            Barbier, Antoine-Alexandre  ...   \n2                            Barbier, Antoine-Alexandre  ...   \n3                      Fallenstein, Georg Friedrich (?)  ...   \n4     Preußen, Prinz Friedrich von (Neffe Friedrich ...  ...   \n...                                                 ...  ...   \n2026  Pailliet, Jean Baptiste Joseph (Anwalt der CdS...  ...   \n2027  Pailliet, Jean Baptiste Joseph (Anwalt der CdS...  ...   \n2028  Pailliet, Jean Baptiste Joseph (Anwalt der CdS...  ...   \n2029  Pailliet, Jean Baptiste Joseph (Anwalt der CdS...  ...   \n2030  Pailliet, Jean Baptiste Joseph (Anwalt der CdS...  ...   \n\n                                        Geonames (Orte)  \\\n0     https://www.geonames.org/3247449; https://www....   \n1     https://www.geonames.org/2934246; https://www....   \n2                                                     0   \n3                                                     0   \n4                      https://www.geonames.org/2934246   \n...                                                 ...   \n2026                   https://www.geonames.org/2989317   \n2027                   https://www.geonames.org/2972191   \n2028  https://www.geonames.org/2972191; https://www....   \n2029                                                  0   \n2030  https://www.geonames.org/2989317; https://www....   \n\n                                           Schlagwörter Editionen Vermerk  \\\n0     Wohnen/Haushalt; Frankreich - Politik; CdS: Ép...         0       0   \n1     Briefpartner/Werk; Literarisches Geschehen/Neu...         0       0   \n2                                   Karriere/-förderung         0       0   \n3     CdS: Épître à un honnête homme (1820); CdS: Su...         0       0   \n4                     CdS: Poésies (1811, 1817², 1835³)         0       0   \n...                                                 ...       ...     ...   \n2026               Wirtschaft/Finanzen; Prozess/Gericht         0       0   \n2027                                    Prozess/Gericht         0       0   \n2028                                    Prozess/Gericht         0       0   \n2029               Wirtschaft/Finanzen; Prozess/Gericht         0       0   \n2030               Wirtschaft/Finanzen; Prozess/Gericht         0       0   \n\n           Bestand Verweise  \\\n0           Toulon        0   \n1           Toulon        0   \n2           Toulon        0   \n3           Toulon        0   \n4           Toulon        0   \n...            ...      ...   \n2026  Schloss Dyck        0   \n2027  Schloss Dyck        0   \n2028  Schloss Dyck        0   \n2029  Schloss Dyck        0   \n2030  Schloss Dyck        0   \n\n                     Digitalisate: Dateiname (Signatur)  \\\n0     CdS-b1-000s-0.jpg (C11/S84/020 ); CdS-b1-000s-...   \n1     CdS-b1-0021-0.jpg (C11/S84/117 ); CdS-b1-0021-...   \n2     CdS-b1-000z-0.jpg (C11/S84/037 ); CdS-b1-000z-...   \n3                       CdS-b1-0026-0.jpg (C11/S84/131)   \n4                       CdS-b1-0016-0.jpg (C11/S84/052)   \n...                                                 ...   \n2026  CdS-b1-08iu-0.jpg (CdS/31/125); CdS-b1-08iu-1....   \n2027  CdS-b1-08jb-0.jpg (CdS/31/098); CdS-b1-08jb-1....   \n2028  CdS-b1-08in-0.jpg (CdS/31/039); CdS-b1-08in-1....   \n2029  CdS-b1-08iz-0.jpg (CdS/31/062); CdS-b1-08iz-1....   \n2030  CdS-b1-08j6-0.jpg (CdS/31/079); CdS-b1-08j6-1....   \n\n                                       Zitierempfehlung    year  decade  \n0     C11/S84/020-022. In: Die Korrespondenz der Con...  1822.0  1820.0  \n1     C11/S84/117-119. In: Die Korrespondenz der Con...  1823.0  1820.0  \n2     C11/S84/037-038. In: Die Korrespondenz der Con...  1822.0  1820.0  \n3     C11/S84/131. In: Die Korrespondenz der Constan...  1823.0  1820.0  \n4     C11/S84/052. In: Die Korrespondenz der Constan...  1822.0  1820.0  \n...                                                 ...     ...     ...  \n2026  CdS/31/125-126. In: Die Korrespondenz der Cons...  1829.0  1820.0  \n2027  CdS/31/098-099. In: Die Korrespondenz der Cons...  1827.0  1820.0  \n2028  CdS/31/039-040. In: Die Korrespondenz der Cons...  1825.0  1820.0  \n2029  CdS/31/062-063. In: Die Korrespondenz der Cons...  1826.0  1820.0  \n2030  CdS/31/079-080. In: Die Korrespondenz der Cons...  1827.0  1820.0  \n\n[2031 rows x 38 columns]",
      "text/html": "<div>\n<style scoped>\n    .dataframe tbody tr th:only-of-type {\n        vertical-align: middle;\n    }\n\n    .dataframe tbody tr th {\n        vertical-align: top;\n    }\n\n    .dataframe thead th {\n        text-align: right;\n    }\n</style>\n<table border=\"1\" class=\"dataframe\">\n  <thead>\n    <tr style=\"text-align: right;\">\n      <th></th>\n      <th>Unnamed: 0</th>\n      <th>FuD-Key</th>\n      <th>letzte Änderung</th>\n      <th>Dokumenttyp</th>\n      <th>URL</th>\n      <th>Nr.</th>\n      <th>Verfasser</th>\n      <th>GND (Verfasser)</th>\n      <th>VIAF (Verfasser)</th>\n      <th>Empfänger</th>\n      <th>...</th>\n      <th>Geonames (Orte)</th>\n      <th>Schlagwörter</th>\n      <th>Editionen</th>\n      <th>Vermerk</th>\n      <th>Bestand</th>\n      <th>Verweise</th>\n      <th>Digitalisate: Dateiname (Signatur)</th>\n      <th>Zitierempfehlung</th>\n      <th>year</th>\n      <th>decade</th>\n    </tr>\n  </thead>\n  <tbody>\n    <tr>\n      <th>0</th>\n      <td>100</td>\n      <td>CdS-b1-000s</td>\n      <td>2022-08-19 10:18:12</td>\n      <td>Brief</td>\n      <td>https://constance-de-salm.de/archiv/#/document/28</td>\n      <td>C11/S84/020-022</td>\n      <td>Salm, Constance de</td>\n      <td>http://d-nb.info/gnd/116765968</td>\n      <td>https://viaf.org/viaf/121051</td>\n      <td>Barbier, Antoine-Alexandre</td>\n      <td>...</td>\n      <td>https://www.geonames.org/3247449; https://www....</td>\n      <td>Wohnen/Haushalt; Frankreich - Politik; CdS: Ép...</td>\n      <td>0</td>\n      <td>0</td>\n      <td>Toulon</td>\n      <td>0</td>\n      <td>CdS-b1-000s-0.jpg (C11/S84/020 ); CdS-b1-000s-...</td>\n      <td>C11/S84/020-022. In: Die Korrespondenz der Con...</td>\n      <td>1822.0</td>\n      <td>1820.0</td>\n    </tr>\n    <tr>\n      <th>1</th>\n      <td>108</td>\n      <td>CdS-b1-0021</td>\n      <td>2022-08-19 10:18:12</td>\n      <td>Brief</td>\n      <td>https://constance-de-salm.de/archiv/#/document/73</td>\n      <td>C11/S84/117-119</td>\n      <td>Salm, Constance de</td>\n      <td>http://d-nb.info/gnd/116765968</td>\n      <td>https://viaf.org/viaf/121051</td>\n      <td>Barbier, Antoine-Alexandre</td>\n      <td>...</td>\n      <td>https://www.geonames.org/2934246; https://www....</td>\n      <td>Briefpartner/Werk; Literarisches Geschehen/Neu...</td>\n      <td>0</td>\n      <td>0</td>\n      <td>Toulon</td>\n      <td>0</td>\n      <td>CdS-b1-0021-0.jpg (C11/S84/117 ); CdS-b1-0021-...</td>\n      <td>C11/S84/117-119. In: Die Korrespondenz der Con...</td>\n      <td>1823.0</td>\n      <td>1820.0</td>\n    </tr>\n    <tr>\n      <th>2</th>\n      <td>110</td>\n      <td>CdS-b1-000z</td>\n      <td>2022-08-19 10:18:12</td>\n      <td>Brief</td>\n      <td>https://constance-de-salm.de/archiv/#/document/35</td>\n      <td>C11/S84/037-038</td>\n      <td>Salm, Constance de</td>\n      <td>http://d-nb.info/gnd/116765968</td>\n      <td>https://viaf.org/viaf/121051</td>\n      <td>Barbier, Antoine-Alexandre</td>\n      <td>...</td>\n      <td>0</td>\n      <td>Karriere/-förderung</td>\n      <td>0</td>\n      <td>0</td>\n      <td>Toulon</td>\n      <td>0</td>\n      <td>CdS-b1-000z-0.jpg (C11/S84/037 ); CdS-b1-000z-...</td>\n      <td>C11/S84/037-038. In: Die Korrespondenz der Con...</td>\n      <td>1822.0</td>\n      <td>1820.0</td>\n    </tr>\n    <tr>\n      <th>3</th>\n      <td>111</td>\n      <td>CdS-b1-0026</td>\n      <td>2022-08-19 10:18:12</td>\n      <td>Brief</td>\n      <td>https://constance-de-salm.de/archiv/#/document/78</td>\n      <td>C11/S84/131</td>\n      <td>Salm, Constance de</td>\n      <td>http://d-nb.info/gnd/116765968</td>\n      <td>https://viaf.org/viaf/121051</td>\n      <td>Fallenstein, Georg Friedrich (?)</td>\n      <td>...</td>\n      <td>0</td>\n      <td>CdS: Épître à un honnête homme (1820); CdS: Su...</td>\n      <td>0</td>\n      <td>0</td>\n      <td>Toulon</td>\n      <td>0</td>\n      <td>CdS-b1-0026-0.jpg (C11/S84/131)</td>\n      <td>C11/S84/131. In: Die Korrespondenz der Constan...</td>\n      <td>1823.0</td>\n      <td>1820.0</td>\n    </tr>\n    <tr>\n      <th>4</th>\n      <td>112</td>\n      <td>CdS-b1-0016</td>\n      <td>2022-08-19 10:18:12</td>\n      <td>Brief</td>\n      <td>https://constance-de-salm.de/archiv/#/document/42</td>\n      <td>C11/S84/052</td>\n      <td>Salm, Constance de</td>\n      <td>http://d-nb.info/gnd/116765968</td>\n      <td>https://viaf.org/viaf/121051</td>\n      <td>Preußen, Prinz Friedrich von (Neffe Friedrich ...</td>\n      <td>...</td>\n      <td>https://www.geonames.org/2934246</td>\n      <td>CdS: Poésies (1811, 1817², 1835³)</td>\n      <td>0</td>\n      <td>0</td>\n      <td>Toulon</td>\n      <td>0</td>\n      <td>CdS-b1-0016-0.jpg (C11/S84/052)</td>\n      <td>C11/S84/052. In: Die Korrespondenz der Constan...</td>\n      <td>1822.0</td>\n      <td>1820.0</td>\n    </tr>\n    <tr>\n      <th>...</th>\n      <td>...</td>\n      <td>...</td>\n      <td>...</td>\n      <td>...</td>\n      <td>...</td>\n      <td>...</td>\n      <td>...</td>\n      <td>...</td>\n      <td>...</td>\n      <td>...</td>\n      <td>...</td>\n      <td>...</td>\n      <td>...</td>\n      <td>...</td>\n      <td>...</td>\n      <td>...</td>\n      <td>...</td>\n      <td>...</td>\n      <td>...</td>\n      <td>...</td>\n      <td>...</td>\n    </tr>\n    <tr>\n      <th>2026</th>\n      <td>10716</td>\n      <td>CdS-b1-08iu</td>\n      <td>2022-08-19 10:18:12</td>\n      <td>Brief</td>\n      <td>https://constance-de-salm.de/archiv/#/document...</td>\n      <td>CdS/31/125-126</td>\n      <td>Salm, Constance de</td>\n      <td>http://d-nb.info/gnd/116765968</td>\n      <td>https://viaf.org/viaf/121051</td>\n      <td>Pailliet, Jean Baptiste Joseph (Anwalt der CdS...</td>\n      <td>...</td>\n      <td>https://www.geonames.org/2989317</td>\n      <td>Wirtschaft/Finanzen; Prozess/Gericht</td>\n      <td>0</td>\n      <td>0</td>\n      <td>Schloss Dyck</td>\n      <td>0</td>\n      <td>CdS-b1-08iu-0.jpg (CdS/31/125); CdS-b1-08iu-1....</td>\n      <td>CdS/31/125-126. In: Die Korrespondenz der Cons...</td>\n      <td>1829.0</td>\n      <td>1820.0</td>\n    </tr>\n    <tr>\n      <th>2027</th>\n      <td>10717</td>\n      <td>CdS-b1-08jb</td>\n      <td>2022-08-19 10:18:12</td>\n      <td>Brief</td>\n      <td>https://constance-de-salm.de/archiv/#/document...</td>\n      <td>CdS/31/098-099</td>\n      <td>Salm, Constance de</td>\n      <td>http://d-nb.info/gnd/116765968</td>\n      <td>https://viaf.org/viaf/121051</td>\n      <td>Pailliet, Jean Baptiste Joseph (Anwalt der CdS...</td>\n      <td>...</td>\n      <td>https://www.geonames.org/2972191</td>\n      <td>Prozess/Gericht</td>\n      <td>0</td>\n      <td>0</td>\n      <td>Schloss Dyck</td>\n      <td>0</td>\n      <td>CdS-b1-08jb-0.jpg (CdS/31/098); CdS-b1-08jb-1....</td>\n      <td>CdS/31/098-099. In: Die Korrespondenz der Cons...</td>\n      <td>1827.0</td>\n      <td>1820.0</td>\n    </tr>\n    <tr>\n      <th>2028</th>\n      <td>10720</td>\n      <td>CdS-b1-08in</td>\n      <td>2022-08-19 10:18:12</td>\n      <td>Brief</td>\n      <td>https://constance-de-salm.de/archiv/#/document...</td>\n      <td>CdS/31/039-040</td>\n      <td>Salm, Constance de</td>\n      <td>http://d-nb.info/gnd/116765968</td>\n      <td>https://viaf.org/viaf/121051</td>\n      <td>Pailliet, Jean Baptiste Joseph (Anwalt der CdS...</td>\n      <td>...</td>\n      <td>https://www.geonames.org/2972191; https://www....</td>\n      <td>Prozess/Gericht</td>\n      <td>0</td>\n      <td>0</td>\n      <td>Schloss Dyck</td>\n      <td>0</td>\n      <td>CdS-b1-08in-0.jpg (CdS/31/039); CdS-b1-08in-1....</td>\n      <td>CdS/31/039-040. In: Die Korrespondenz der Cons...</td>\n      <td>1825.0</td>\n      <td>1820.0</td>\n    </tr>\n    <tr>\n      <th>2029</th>\n      <td>10721</td>\n      <td>CdS-b1-08iz</td>\n      <td>2022-08-19 10:18:12</td>\n      <td>Brief</td>\n      <td>https://constance-de-salm.de/archiv/#/document...</td>\n      <td>CdS/31/062-063</td>\n      <td>Salm, Constance de</td>\n      <td>http://d-nb.info/gnd/116765968</td>\n      <td>https://viaf.org/viaf/121051</td>\n      <td>Pailliet, Jean Baptiste Joseph (Anwalt der CdS...</td>\n      <td>...</td>\n      <td>0</td>\n      <td>Wirtschaft/Finanzen; Prozess/Gericht</td>\n      <td>0</td>\n      <td>0</td>\n      <td>Schloss Dyck</td>\n      <td>0</td>\n      <td>CdS-b1-08iz-0.jpg (CdS/31/062); CdS-b1-08iz-1....</td>\n      <td>CdS/31/062-063. In: Die Korrespondenz der Cons...</td>\n      <td>1826.0</td>\n      <td>1820.0</td>\n    </tr>\n    <tr>\n      <th>2030</th>\n      <td>10722</td>\n      <td>CdS-b1-08j6</td>\n      <td>2022-08-19 10:18:12</td>\n      <td>Brief</td>\n      <td>https://constance-de-salm.de/archiv/#/document...</td>\n      <td>CdS/31/079-080</td>\n      <td>Salm, Constance de</td>\n      <td>http://d-nb.info/gnd/116765968</td>\n      <td>https://viaf.org/viaf/121051</td>\n      <td>Pailliet, Jean Baptiste Joseph (Anwalt der CdS...</td>\n      <td>...</td>\n      <td>https://www.geonames.org/2989317; https://www....</td>\n      <td>Wirtschaft/Finanzen; Prozess/Gericht</td>\n      <td>0</td>\n      <td>0</td>\n      <td>Schloss Dyck</td>\n      <td>0</td>\n      <td>CdS-b1-08j6-0.jpg (CdS/31/079); CdS-b1-08j6-1....</td>\n      <td>CdS/31/079-080. In: Die Korrespondenz der Cons...</td>\n      <td>1827.0</td>\n      <td>1820.0</td>\n    </tr>\n  </tbody>\n</table>\n<p>2031 rows × 38 columns</p>\n</div>"
     },
     "execution_count": 3,
     "metadata": {},
     "output_type": "execute_result"
    }
   ],
   "source": [
    "df = pd.read_csv('../data/retrieved/filtered_cds_data.csv')\n",
    "df = df.fillna(0)\n",
    "df"
   ],
   "metadata": {
    "collapsed": false
   }
  },
  {
   "cell_type": "code",
   "execution_count": 4,
   "outputs": [],
   "source": [
    "def get_geodata(dataframe: pd.DataFrame, feature_column: str):\n",
    "    for feature in dataframe[feature_column].unique():\n",
    "        if feature != '0':\n",
    "            g = geocoder.geonames(\n",
    "                re.sub(\n",
    "                    'https://www.geonames.org/',\n",
    "                    '',\n",
    "                    str(feature)\n",
    "                ),\n",
    "                method='details',\n",
    "                geoNamesUsername=\"sarahondraszek\",\n",
    "                key=\"sarahondraszek\"\n",
    "            )\n",
    "            print(feature, g.lat, g.lng)"
   ],
   "metadata": {
    "collapsed": false
   }
  },
  {
   "cell_type": "code",
   "execution_count": 5,
   "outputs": [
    {
     "name": "stdout",
     "output_type": "stream",
     "text": [
      "https://www.geonames.org/3247449 50.77664 6.08342\n",
      "https://www.geonames.org/2894637 51.1 6.5\n"
     ]
    },
    {
     "name": "stderr",
     "output_type": "stream",
     "text": [
      "Status code 404 from http://api.geonames.org/getJSON: ERROR - 404 Client Error: Not Found for url: http://api.geonames.org/getJSON?geonameId=0&username=sarahondraszek&style=full\n"
     ]
    },
    {
     "name": "stdout",
     "output_type": "stream",
     "text": [
      "0 None None\n",
      "https://www.geonames.org/2988507 48.85341 2.3488\n",
      "https://www.geonames.org/2800866 50.85045 4.34878\n",
      "https://www.geonames.org/2971041 50.35909 3.52506\n",
      "https://www.geonames.org/2934246 51.22172 6.77616\n",
      "https://www.geonames.org/2958516 50.73333 7.01667\n"
     ]
    }
   ],
   "source": [
    "get_geodata(df, 'Geonames (Ausstellungsort)')"
   ],
   "metadata": {
    "collapsed": false
   }
  },
  {
   "cell_type": "code",
   "execution_count": null,
   "outputs": [],
   "source": [],
   "metadata": {
    "collapsed": false
   }
  }
 ],
 "metadata": {
  "kernelspec": {
   "display_name": "Python 3",
   "language": "python",
   "name": "python3"
  },
  "language_info": {
   "codemirror_mode": {
    "name": "ipython",
    "version": 2
   },
   "file_extension": ".py",
   "mimetype": "text/x-python",
   "name": "python",
   "nbconvert_exporter": "python",
   "pygments_lexer": "ipython2",
   "version": "2.7.6"
  }
 },
 "nbformat": 4,
 "nbformat_minor": 0
}
