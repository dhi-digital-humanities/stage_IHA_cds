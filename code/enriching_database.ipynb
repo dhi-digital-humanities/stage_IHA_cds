{
 "cells": [
  {
   "cell_type": "markdown",
   "source": [
    "# A Correspondence Contextualised\n",
    "This is a script for enriching existing data about keywords or person information with information from [Wikidata](https://www.wikidata.org/wiki/Wikidata:Main_Page)."
   ],
   "metadata": {
    "collapsed": false,
    "pycharm": {
     "name": "#%% md\n"
    }
   }
  },
  {
   "cell_type": "code",
   "execution_count": 59,
   "outputs": [],
   "source": [
    "import pandas as pd\n",
    "from json import JSONDecodeError\n",
    "from qwikidata.sparql  import return_sparql_query_results"
   ],
   "metadata": {
    "collapsed": false,
    "pycharm": {
     "name": "#%%\n"
    }
   }
  },
  {
   "cell_type": "code",
   "execution_count": 60,
   "outputs": [],
   "source": [
    "df = pd.read_excel('../data/cds_sheets/Kopie_von_20220816_sachindex_cds.xlsx')\n",
    "\n",
    "# Cells that include entries with more than one value and that are seperated by a backslash are split into separate cells.\n",
    "df_merged = (df.set_index(df.columns.drop('Deutsch',1).tolist()).Deutsch.str.split('/', expand=True).stack().reset_index().rename(columns={0:'Deutsch'}).loc[:, df.columns])\n",
    "df_merged.to_csv('../data/retrieved/sachindex_singular_values.csv')\n",
    "\n"
   ],
   "metadata": {
    "collapsed": false,
    "pycharm": {
     "name": "#%%\n"
    }
   }
  },
  {
   "cell_type": "code",
   "execution_count": 75,
   "outputs": [],
   "source": [
    "def enrich_data():\n",
    "    index = 0\n",
    "    for string in df_merged['Deutsch']:\n",
    "        try:\n",
    "            query = f'' \\\n",
    "                    f'SELECT ?item ?label_fr ' \\\n",
    "                    f'  WHERE {{' \\\n",
    "                    f'      ?item rdfs:label \"{string}\"@de. ' \\\n",
    "                    f'      ?item rdfs:label ?label_fr filter (lang(?label_fr) = \"fr\").' \\\n",
    "                    f'  }}'\n",
    "            res = return_sparql_query_results(query)\n",
    "            df_merged['Wikidata'][index] = [item['item']['value'] for item in res['results']['bindings']]\n",
    "            df_merged['Französisch'][index] = [item['label_fr']['value'] for item in res['results']['bindings']]\n",
    "\n",
    "            index += 1\n",
    "        except JSONDecodeError:\n",
    "            index += 1\n",
    "            continue\n",
    "\n",
    "    df_merged.to_csv('../data/retrieved/sachindex_additional_data.csv')"
   ],
   "metadata": {
    "collapsed": false,
    "pycharm": {
     "name": "#%%\n"
    }
   }
  },
  {
   "cell_type": "code",
   "execution_count": null,
   "outputs": [],
   "source": [
    "enrich_data()"
   ],
   "metadata": {
    "collapsed": false,
    "pycharm": {
     "name": "#%%\n"
    }
   }
  }
 ],
 "metadata": {
  "kernelspec": {
   "display_name": "Python 3",
   "language": "python",
   "name": "python3"
  },
  "language_info": {
   "codemirror_mode": {
    "name": "ipython",
    "version": 2
   },
   "file_extension": ".py",
   "mimetype": "text/x-python",
   "name": "python",
   "nbconvert_exporter": "python",
   "pygments_lexer": "ipython2",
   "version": "2.7.6"
  }
 },
 "nbformat": 4,
 "nbformat_minor": 0
}