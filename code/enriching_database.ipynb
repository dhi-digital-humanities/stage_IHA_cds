{
 "cells": [
  {
   "cell_type": "markdown",
   "source": [
    "# A Correspondence Contextualised\n",
    "This is a prototypical script for enriching existing data about keywords or person information with information from [Wikidata](https://www.wikidata.org/wiki/Wikidata:Main_Page). More information can be read in the [README](../README.md#enriching-the-network-with-semantic-information) and the [FILE OVERVIEW](README.md#ontologies-rdfification-semantic-modelling)."
   ],
   "metadata": {
    "collapsed": false
   }
  },
  {
   "cell_type": "code",
   "execution_count": 2,
   "outputs": [],
   "source": [
    "import pandas as pd\n",
    "from json import JSONDecodeError\n",
    "from qwikidata.sparql  import return_sparql_query_results\n",
    "from SPARQLWrapper import SPARQLWrapper, JSON\n",
    "import geocoder\n",
    "import re"
   ],
   "metadata": {
    "collapsed": false
   }
  },
  {
   "cell_type": "code",
   "execution_count": 60,
   "outputs": [],
   "source": [
    "inpt = pd.read_excel('../data/cds_sheets/Kopie_von_20220816_sachindex_cds.xlsx')\n",
    "\n",
    "# Cells that include entries with more than one value and that are seperated by a backslash are split into separate cells.\n",
    "df_merged = (inpt.set_index(inpt.columns.drop('Deutsch',1).tolist()).Deutsch.str.split('/', expand=True).stack().reset_index().rename(columns={0:'Deutsch'}).loc[:, inpt.columns])\n",
    "df_merged.to_csv('../data/retrieved/sachindex_singular_values.csv')\n",
    "\n"
   ],
   "metadata": {
    "collapsed": false
   }
  },
  {
   "cell_type": "code",
   "execution_count": 75,
   "outputs": [],
   "source": [
    "def enrich_data(df: pd.DataFrame):\n",
    "    index = 0\n",
    "    for string in df['Deutsch']:\n",
    "        try:\n",
    "            query = f'' \\\n",
    "                    f'SELECT ?item ?label_fr ' \\\n",
    "                    f'  WHERE {{' \\\n",
    "                    f'      ?item rdfs:label \"{string}\"@de. ' \\\n",
    "                    f'      ?item rdfs:label ?label_fr filter (lang(?label_fr) = \"fr\").' \\\n",
    "                    f'  }}'\n",
    "            res = return_sparql_query_results(query)\n",
    "            df['Wikidata'][index] = [item['item']['value'] for item in res['results']['bindings']]\n",
    "            df['Französisch'][index] = [item['label_fr']['value'] for item in res['results']['bindings']]\n",
    "\n",
    "            index += 1\n",
    "        except JSONDecodeError:\n",
    "            index += 1\n",
    "            continue\n",
    "\n",
    "    df.to_csv('../data/retrieved/sachindex_additional_data.csv')"
   ],
   "metadata": {
    "collapsed": false
   }
  },
  {
   "cell_type": "code",
   "execution_count": null,
   "outputs": [],
   "source": [
    "enrich_data(df=df_merged)"
   ],
   "metadata": {
    "collapsed": false
   }
  },
  {
   "cell_type": "code",
   "execution_count": 8,
   "outputs": [],
   "source": [
    "def query_person_wdt(df: pd.DataFrame, label: str = 'Verfasser'):\n",
    "    for person in df[label]:\n",
    "        if type(person) != float:\n",
    "            l = person.split(',')\n",
    "            if len(l) > 1:\n",
    "                #print(re.sub('\\s+',' ', re.sub(r'(\\([^)]*(CdS|Bruder|SRD|Neffe|Siehe)[^)]*\\)*)','',(l[1]+' '+l[0]))))\n",
    "                print((l[1]+' '+l[0]).strip())\n",
    "\n"
   ],
   "metadata": {
    "collapsed": false
   }
  },
  {
   "cell_type": "code",
   "execution_count": null,
   "outputs": [],
   "source": [
    "cds_df = pd.read_csv('../data/retrieved/filtered_cds_data.csv')\n",
    "query_person_wdt(df=cds_df, label='Verfasser')"
   ],
   "metadata": {
    "collapsed": false,
    "pycharm": {
     "is_executing": true
    }
   }
  }
 ],
 "metadata": {
  "kernelspec": {
   "display_name": "Python 3",
   "language": "python",
   "name": "python3"
  },
  "language_info": {
   "codemirror_mode": {
    "name": "ipython",
    "version": 2
   },
   "file_extension": ".py",
   "mimetype": "text/x-python",
   "name": "python",
   "nbconvert_exporter": "python",
   "pygments_lexer": "ipython2",
   "version": "2.7.6"
  }
 },
 "nbformat": 4,
 "nbformat_minor": 0
}
