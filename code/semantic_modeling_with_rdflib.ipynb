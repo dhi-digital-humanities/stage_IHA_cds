{
 "cells": [
  {
   "cell_type": "code",
   "execution_count": 3,
   "metadata": {
    "collapsed": true,
    "pycharm": {
     "name": "#%%\n"
    }
   },
   "outputs": [],
   "source": [
    "from rdflib import Graph, URIRef, Literal, BNode\n",
    "from rdflib import Namespace\n",
    "from rdflib.namespace import CSVW, DC, DCAT, DCTERMS, DOAP, FOAF, ODRL2, ORG, OWL, \\\n",
    "                           PROF, PROV, RDF, RDFS, SDO, SH, SKOS, SOSA, SSN, TIME, \\\n",
    "                           VOID, XMLNS, XSD"
   ]
  },
  {
   "cell_type": "code",
   "execution_count": 14,
   "outputs": [],
   "source": [
    "gnd = Namespace(\"https://d-nb.info/gnd/\")\n",
    "viaf = Namespace(\"https://viaf.org/viaf/\")\n",
    "gn = Namespace(\"https://www.geonames.org/\")\n",
    "gn_onto = Namespace(gn+\"ontology#\")\n",
    "cds_onto = Namespace(\"https://constance-de-salm.de/\")\n",
    "cds_docs = Namespace(cds_onto+\"archiv/#/document/\")"
   ],
   "metadata": {
    "collapsed": false,
    "pycharm": {
     "name": "#%%\n"
    }
   }
  },
  {
   "cell_type": "code",
   "execution_count": 21,
   "outputs": [
    {
     "name": "stdout",
     "output_type": "stream",
     "text": [
      "@prefix foaf: <http://xmlns.com/foaf/0.1/> .\n",
      "@prefix rdfs: <http://www.w3.org/2000/01/rdf-schema#> .\n",
      "\n",
      "<https://constance-de-salm.de/ontology#Addressee> rdfs:subClassOf foaf:Person .\n",
      "\n",
      "<https://constance-de-salm.de/ontology#Letter> rdfs:subClassOf foaf:Document ;\n",
      "    foaf:topic <https://constance-de-salm.de/ontology#Topic> .\n",
      "\n",
      "<https://constance-de-salm.de/ontology#Sender> rdfs:subClassOf foaf:Person .\n",
      "\n",
      "\n"
     ]
    }
   ],
   "source": [
    "g = Graph()\n",
    "g.bind(\"foaf\", FOAF)\n",
    "\n",
    "\"\"\"Creating all needed classes that will be used to describe the general structure of the graph or ontology throughout the modelling. Some vocabularies that already exist are recycled, for example FOAF and Geonames. Moreover, RDFS and RDF basics are used to further describe the ontology.\"\"\"\n",
    "\n",
    "# Document + subclass Letter.\n",
    "document = FOAF.Document\n",
    "letter = URIRef(cds_onto+\"ontology#Letter\")\n",
    "# Topic/key word(s) of a letter.\n",
    "topic = URIRef(cds_onto+\"ontology#Topic\")\n",
    "# Person + subclasses Addressee and Sender.\n",
    "person = FOAF.Person\n",
    "addressee = URIRef(cds_onto+\"ontology#Addressee\")\n",
    "sender = URIRef(cds_onto+\"ontology#Sender\")\n",
    "# Place based on geonames class Feature.\n",
    "place = URIRef(gn_onto+\"Feature\")\n",
    "\n",
    "# Adding new properties to vocabulary.\n",
    "has_addressee = URIRef(cds_onto+\"ontology#\")\n",
    "\n",
    "# Describing relationships and dependencies in the ontology using triples.\n",
    "g.add((letter, RDFS.subClassOf, document))\n",
    "g.add((letter, FOAF.topic, topic))\n",
    "\n",
    "g.add((addressee, RDFS.subClassOf, person))\n",
    "g.add((sender, RDFS.subClassOf, person))\n",
    "\n",
    "print(g.serialize())"
   ],
   "metadata": {
    "collapsed": false,
    "pycharm": {
     "name": "#%%\n"
    }
   }
  },
  {
   "cell_type": "code",
   "execution_count": null,
   "outputs": [],
   "source": [],
   "metadata": {
    "collapsed": false,
    "pycharm": {
     "name": "#%%\n"
    }
   }
  }
 ],
 "metadata": {
  "kernelspec": {
   "display_name": "Python 3",
   "language": "python",
   "name": "python3"
  },
  "language_info": {
   "codemirror_mode": {
    "name": "ipython",
    "version": 2
   },
   "file_extension": ".py",
   "mimetype": "text/x-python",
   "name": "python",
   "nbconvert_exporter": "python",
   "pygments_lexer": "ipython2",
   "version": "2.7.6"
  }
 },
 "nbformat": 4,
 "nbformat_minor": 0
}