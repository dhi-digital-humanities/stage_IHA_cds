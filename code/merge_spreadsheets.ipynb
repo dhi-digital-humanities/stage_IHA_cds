{
 "cells": [
  {
   "cell_type": "code",
   "execution_count": 3,
   "outputs": [],
   "source": [
    "import os\n",
    "\n",
    "import pandas as pd\n",
    "import glob"
   ],
   "metadata": {
    "collapsed": false,
    "pycharm": {
     "name": "#%%\n"
    }
   }
  },
  {
   "cell_type": "code",
   "execution_count": 14,
   "outputs": [],
   "source": [
    "def merge_files(path: str) -> pd.DataFrame:\n",
    "    \"\"\"\n",
    "    Merging existing files with data from the CdS correspondence\n",
    "    into one spreadsheet for further visualisation purposes.\n",
    "\n",
    "    :param path: File path of directory.\n",
    "    :return: None.\n",
    "    \"\"\"\n",
    "\n",
    "    csv_input: pd.DataFrame\n",
    "    excel_input: pd.DataFrame\n",
    "\n",
    "    df_input: list = []\n",
    "\n",
    "    # Checking format of file (CSV or XLSX) and parsing the data accordingly:\n",
    "    for file in glob.glob(path):\n",
    "        if os.path.basename(file).endswith('xlsx'):\n",
    "            print(f\"Parsing {os.path.basename(file)}.\")\n",
    "            excel_input = pd.read_excel(file)\n",
    "            df_input.append(excel_input)\n",
    "        elif os.path.basename(file).endswith('csv'):\n",
    "            print(f\"Parsing {os.path.basename(file)}.\")\n",
    "            csv_input = pd.read_csv(file)\n",
    "            df_input.append(csv_input)\n",
    "\n",
    "\n",
    "    df_input = pd.concat(df_input).drop_duplicates(subset=['FuD-Key'], keep='first').reset_index(drop=True)\n",
    "    # write DataFrame to an excel sheet\n",
    "    df_input.to_csv('../data/merged_data/merged_cds_spreadsheet.csv')\n",
    "\n",
    "    return df_input"
   ],
   "metadata": {
    "collapsed": false,
    "pycharm": {
     "name": "#%%\n"
    }
   }
  },
  {
   "cell_type": "code",
   "execution_count": 14,
   "outputs": [],
   "source": [],
   "metadata": {
    "collapsed": false,
    "pycharm": {
     "name": "#%%\n"
    }
   }
  },
  {
   "cell_type": "code",
   "execution_count": null,
   "outputs": [],
   "source": [],
   "metadata": {
    "collapsed": false,
    "pycharm": {
     "name": "#%%\n"
    }
   }
  }
 ],
 "metadata": {
  "kernelspec": {
   "display_name": "Python 3",
   "language": "python",
   "name": "python3"
  },
  "language_info": {
   "codemirror_mode": {
    "name": "ipython",
    "version": 2
   },
   "file_extension": ".py",
   "mimetype": "text/x-python",
   "name": "python",
   "nbconvert_exporter": "python",
   "pygments_lexer": "ipython2",
   "version": "2.7.6"
  }
 },
 "nbformat": 4,
 "nbformat_minor": 0
}